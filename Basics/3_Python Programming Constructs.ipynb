{
 "cells": [
  {
   "cell_type": "markdown",
   "metadata": {},
   "source": [
    "# Python Programming Constructs"
   ]
  },
  {
   "cell_type": "markdown",
   "metadata": {
    "collapsed": true
   },
   "source": [
    "# Comparison Operators"
   ]
  },
  {
   "cell_type": "code",
   "execution_count": 1,
   "metadata": {},
   "outputs": [
    {
     "data": {
      "text/plain": [
       "False"
      ]
     },
     "execution_count": 1,
     "metadata": {},
     "output_type": "execute_result"
    }
   ],
   "source": [
    "var1 = 59\n",
    "var1 == 6"
   ]
  },
  {
   "cell_type": "code",
   "execution_count": null,
   "metadata": {
    "collapsed": true
   },
   "outputs": [],
   "source": [
    "num1 = 6\n",
    "num1 > 50"
   ]
  },
  {
   "cell_type": "code",
   "execution_count": null,
   "metadata": {
    "collapsed": true
   },
   "outputs": [],
   "source": [
    "num1 = 20 \n",
    "num1 < 50"
   ]
  },
  {
   "cell_type": "code",
   "execution_count": null,
   "metadata": {
    "collapsed": true
   },
   "outputs": [],
   "source": [
    "num1 = 78\n",
    "num1 != 45"
   ]
  },
  {
   "cell_type": "code",
   "execution_count": null,
   "metadata": {
    "collapsed": true
   },
   "outputs": [],
   "source": [
    "num1 = 34\n",
    "num1 != 34"
   ]
  },
  {
   "cell_type": "code",
   "execution_count": 2,
   "metadata": {},
   "outputs": [
    {
     "data": {
      "text/plain": [
       "True"
      ]
     },
     "execution_count": 2,
     "metadata": {},
     "output_type": "execute_result"
    }
   ],
   "source": [
    "\"String1\" == \"String1\""
   ]
  },
  {
   "cell_type": "code",
   "execution_count": 3,
   "metadata": {},
   "outputs": [
    {
     "data": {
      "text/plain": [
       "False"
      ]
     },
     "execution_count": 3,
     "metadata": {},
     "output_type": "execute_result"
    }
   ],
   "source": [
    "\"String1\" != \"String1\""
   ]
  },
  {
   "cell_type": "code",
   "execution_count": null,
   "metadata": {
    "collapsed": true
   },
   "outputs": [],
   "source": [
    "\"firstString\" == \"secondString\""
   ]
  },
  {
   "cell_type": "code",
   "execution_count": null,
   "metadata": {
    "collapsed": true
   },
   "outputs": [],
   "source": [
    "\"firstString\" != \"secondString\""
   ]
  },
  {
   "cell_type": "markdown",
   "metadata": {
    "collapsed": true
   },
   "source": [
    "# Branching / Conditional Statements"
   ]
  },
  {
   "cell_type": "code",
   "execution_count": 7,
   "metadata": {},
   "outputs": [
    {
     "name": "stdout",
     "output_type": "stream",
     "text": [
      "Your score is  15\n"
     ]
    }
   ],
   "source": [
    "score = 15\n",
    "#score = 99\n",
    "\n",
    "if score > 50:\n",
    "    print(\"You passed!\")\n",
    "    print(\"This is part of if only\")\n",
    "    \n",
    "print(\"Your score is \", score)    "
   ]
  },
  {
   "cell_type": "code",
   "execution_count": 9,
   "metadata": {},
   "outputs": [
    {
     "name": "stdout",
     "output_type": "stream",
     "text": [
      "You passed!\n",
      "Your score is  99\n"
     ]
    }
   ],
   "source": [
    "score = 15\n",
    "score = 99\n",
    "\n",
    "if score > 50:\n",
    "    print(\"You passed!\")\n",
    "else:    \n",
    "    print(\"You have not passed!\")\n",
    "    \n",
    "print(\"Your score is \", score) "
   ]
  },
  {
   "cell_type": "code",
   "execution_count": 12,
   "metadata": {},
   "outputs": [
    {
     "name": "stdout",
     "output_type": "stream",
     "text": [
      "Not a valid score!\n",
      "Your score is  0\n"
     ]
    }
   ],
   "source": [
    "score = 15\n",
    "score = 99\n",
    "score = 0\n",
    "\n",
    "if score > 50 and score <= 99:\n",
    "    print(\"You passed!\")\n",
    "elif score > 0 and score < 50:\n",
    "    print(\"You can reapper for the exam!\")\n",
    "else:    \n",
    "    print(\"Not a valid score!\")\n",
    "    \n",
    "print(\"Your score is \", score) "
   ]
  },
  {
   "cell_type": "code",
   "execution_count": 13,
   "metadata": {},
   "outputs": [
    {
     "name": "stdout",
     "output_type": "stream",
     "text": [
      "Enter score23\n",
      "You Failed!\n"
     ]
    }
   ],
   "source": [
    "input_score = input(\"Enter score\")\n",
    "int_score = int(input_score)\n",
    "\n",
    "if int_score > 0 and int_score < 35:\n",
    "    print(\"You Failed!\")\n",
    "elif int_score >= 35 and int_score <= 99:\n",
    "    print(\"You passed\")\n",
    "else:\n",
    "    print(\"Invalid score!\")"
   ]
  },
  {
   "cell_type": "markdown",
   "metadata": {
    "collapsed": true
   },
   "source": [
    "# Logical Operators"
   ]
  },
  {
   "cell_type": "code",
   "execution_count": null,
   "metadata": {
    "collapsed": true
   },
   "outputs": [],
   "source": [
    "score = 15\n",
    "#score = 99\n",
    "#score = 0\n",
    "\n",
    "if score > 50 and score <= 99:\n",
    "    print(\"You passed!\")\n",
    "elif score > 0 and score < 50:\n",
    "    print(\"You can reapper for the exam!\")\n",
    "else:    \n",
    "    print(\"Not a valid score!\")\n",
    "    \n",
    "print(\"Your score is \", score) "
   ]
  },
  {
   "cell_type": "code",
   "execution_count": 17,
   "metadata": {},
   "outputs": [
    {
     "name": "stdout",
     "output_type": "stream",
     "text": [
      "The Album was made in the 1980's \n"
     ]
    }
   ],
   "source": [
    "album_year = 1981\n",
    "\n",
    "if(album_year < 1980) or (album_year > 1989):\n",
    "    print (\"Album was not made in the 1980's\")\n",
    "else:\n",
    "    print(\"The Album was made in the 1980's \")"
   ]
  },
  {
   "cell_type": "code",
   "execution_count": null,
   "metadata": {
    "collapsed": true
   },
   "outputs": [],
   "source": [
    "score = 15\n",
    "#score = 99\n",
    "#score = 0\n",
    "\n",
    "if score <= 0 or score > 99:\n",
    "    print(\"Invalid Score!\")\n",
    "else:\n",
    "    print(\"You scored something!\")\n",
    "    \n",
    "print(\"Your score is \", score) "
   ]
  },
  {
   "cell_type": "code",
   "execution_count": 34,
   "metadata": {},
   "outputs": [
    {
     "name": "stdout",
     "output_type": "stream",
     "text": [
      "You scored something invalid\n"
     ]
    }
   ],
   "source": [
    "score = 15\n",
    "#score = 99\n",
    "#score = 0\n",
    "\n",
    "if not (score == 0 and score == 100):\n",
    "    print (\"You scored something invalid\")\n"
   ]
  },
  {
   "cell_type": "markdown",
   "metadata": {
    "collapsed": true
   },
   "source": [
    "# For Loops"
   ]
  },
  {
   "cell_type": "code",
   "execution_count": 18,
   "metadata": {},
   "outputs": [
    {
     "data": {
      "text/plain": [
       "range(0, 5)"
      ]
     },
     "execution_count": 18,
     "metadata": {},
     "output_type": "execute_result"
    }
   ],
   "source": [
    "range(5)"
   ]
  },
  {
   "cell_type": "code",
   "execution_count": 19,
   "metadata": {},
   "outputs": [
    {
     "name": "stdout",
     "output_type": "stream",
     "text": [
      "0\n",
      "1\n",
      "2\n",
      "3\n",
      "4\n"
     ]
    }
   ],
   "source": [
    "for i in range(5):\n",
    "    print(i)"
   ]
  },
  {
   "cell_type": "code",
   "execution_count": 20,
   "metadata": {},
   "outputs": [
    {
     "name": "stdout",
     "output_type": "stream",
     "text": [
      "0\n",
      "1\n",
      "2\n",
      "3\n",
      "4\n",
      "5\n",
      "6\n",
      "7\n"
     ]
    }
   ],
   "source": [
    "for i in range(0,8):\n",
    "    print(i)"
   ]
  },
  {
   "cell_type": "code",
   "execution_count": 21,
   "metadata": {},
   "outputs": [
    {
     "name": "stdout",
     "output_type": "stream",
     "text": [
      "30\n",
      "45\n",
      "12\n"
     ]
    }
   ],
   "source": [
    "scores = [30, 45, 12]\n",
    "n = len(scores)\n",
    "\n",
    "for i in range(n):\n",
    "    print(scores[i])  "
   ]
  },
  {
   "cell_type": "code",
   "execution_count": 22,
   "metadata": {},
   "outputs": [
    {
     "name": "stdout",
     "output_type": "stream",
     "text": [
      "30\n",
      "45\n",
      "12\n"
     ]
    }
   ],
   "source": [
    "scores = [30, 45, 12]\n",
    "for score in scores:  \n",
    "    print(score)  \n",
    " "
   ]
  },
  {
   "cell_type": "code",
   "execution_count": 23,
   "metadata": {},
   "outputs": [
    {
     "name": "stdout",
     "output_type": "stream",
     "text": [
      "number :  0    square :  0\n",
      "number :  1    square :  1\n",
      "number :  2    square :  4\n",
      "number :  3    square :  9\n",
      "number :  4    square :  16\n",
      "\n",
      "After change:\n",
      "number :  0    square :  0\n",
      "number :  1    square :  1\n",
      "number :  2    square :  8\n",
      "number :  3    square :  27\n",
      "number :  4    square :  64\n"
     ]
    }
   ],
   "source": [
    "squares = [0, 1, 4, 9, 16]\n",
    "\n",
    "for i in range(0,5):\n",
    "    print(\"number : \", i, \"  \", \"square : \", squares[i])\n",
    "    squares[i] = i * i * i;\n",
    "    \n",
    "print(\"\\nAfter change:\")    \n",
    "for i in range(0,5):\n",
    "    print(\"number : \", i, \"  \", \"square : \", squares[i])    "
   ]
  },
  {
   "cell_type": "code",
   "execution_count": 24,
   "metadata": {},
   "outputs": [
    {
     "name": "stdout",
     "output_type": "stream",
     "text": [
      "index :  0    value :  0\n",
      "index :  1    value :  1\n",
      "index :  2    value :  4\n",
      "index :  3    value :  9\n",
      "index :  4    value :  16\n"
     ]
    }
   ],
   "source": [
    "squares = [0, 1, 4, 9, 16]\n",
    "\n",
    "for i, square in enumerate(squares):\n",
    "    print(\"index : \", i, \"  \", \"value : \" , square)"
   ]
  },
  {
   "cell_type": "code",
   "execution_count": null,
   "metadata": {
    "collapsed": true
   },
   "outputs": [],
   "source": [
    "for i in (11,31,51):\n",
    "    print(i)\n",
    "print()   \n",
    "\n",
    "for i in range(11,15):\n",
    "    print(i)    \n",
    "print()        \n",
    "\n",
    "for i in range(0,5, 2):\n",
    "    print(i)    \n",
    "print()        \n",
    "\n",
    "for i in range(100,90, -2):\n",
    "    print(i)    \n",
    "print() "
   ]
  },
  {
   "cell_type": "markdown",
   "metadata": {
    "collapsed": true
   },
   "source": [
    "# While Loops"
   ]
  },
  {
   "cell_type": "code",
   "execution_count": 27,
   "metadata": {},
   "outputs": [
    {
     "name": "stdout",
     "output_type": "stream",
     "text": [
      "78\n",
      "34\n",
      "23\n"
     ]
    }
   ],
   "source": [
    "scores = [78, 34, 23, 12, 56]\n",
    "\n",
    "index = 0\n",
    "score = 0\n",
    "\n",
    "while(index != 3):\n",
    "    score = scores[index]\n",
    "    print(score)\n",
    "    index = index + 1\n"
   ]
  },
  {
   "cell_type": "markdown",
   "metadata": {
    "collapsed": true
   },
   "source": [
    "# Custom Function"
   ]
  },
  {
   "cell_type": "code",
   "execution_count": 28,
   "metadata": {
    "collapsed": true
   },
   "outputs": [],
   "source": [
    "def my_add_function(number1, number2):\n",
    "    \"\"\"This function adds two given numbers\"\"\"\n",
    "    answer = number1 + number2\n",
    "    \n",
    "    print(\"Addtion of \", number1, \" and \", number2, \" is \", answer)\n"
   ]
  },
  {
   "cell_type": "code",
   "execution_count": 29,
   "metadata": {},
   "outputs": [
    {
     "name": "stdout",
     "output_type": "stream",
     "text": [
      "Help on function my_add_function in module __main__:\n",
      "\n",
      "my_add_function(number1, number2)\n",
      "    This function adds two given numbers\n",
      "\n"
     ]
    }
   ],
   "source": [
    "help(my_add_function)"
   ]
  },
  {
   "cell_type": "code",
   "execution_count": 30,
   "metadata": {},
   "outputs": [
    {
     "name": "stdout",
     "output_type": "stream",
     "text": [
      "Addtion of  1  and  5  is  6\n"
     ]
    }
   ],
   "source": [
    "my_add_function(1, 5)"
   ]
  },
  {
   "cell_type": "code",
   "execution_count": 31,
   "metadata": {
    "collapsed": true
   },
   "outputs": [],
   "source": [
    "def my_modified_add_function(number1, number2):\n",
    "    \"\"\"This function adds two given numbers and returns value\"\"\"\n",
    "    answer = number1 + number2\n",
    "    \n",
    "    #print(\"Addtion of \", number1, \" and \", number2, \" is \", answer)\n",
    "    return(answer)"
   ]
  },
  {
   "cell_type": "code",
   "execution_count": null,
   "metadata": {
    "collapsed": true
   },
   "outputs": [],
   "source": [
    "help(my_modified_add_function)"
   ]
  },
  {
   "cell_type": "code",
   "execution_count": 32,
   "metadata": {},
   "outputs": [
    {
     "data": {
      "text/plain": [
       "48"
      ]
     },
     "execution_count": 32,
     "metadata": {},
     "output_type": "execute_result"
    }
   ],
   "source": [
    "return_value = my_modified_add_function(45, 3)\n",
    "return_value"
   ]
  },
  {
   "cell_type": "code",
   "execution_count": 33,
   "metadata": {
    "collapsed": true
   },
   "outputs": [],
   "source": [
    "def my_multiplication_function(value1, value2):\n",
    "    value = value1 * value2\n",
    "    return(value)"
   ]
  },
  {
   "cell_type": "code",
   "execution_count": 34,
   "metadata": {},
   "outputs": [
    {
     "data": {
      "text/plain": [
       "31.400000000000002"
      ]
     },
     "execution_count": 34,
     "metadata": {},
     "output_type": "execute_result"
    }
   ],
   "source": [
    "my_multiplication_function(10,3.14)"
   ]
  },
  {
   "cell_type": "code",
   "execution_count": 36,
   "metadata": {},
   "outputs": [
    {
     "data": {
      "text/plain": [
       "'PythonPythonPython'"
      ]
     },
     "execution_count": 36,
     "metadata": {},
     "output_type": "execute_result"
    }
   ],
   "source": [
    "my_multiplication_function(3,\"Python\")"
   ]
  },
  {
   "cell_type": "code",
   "execution_count": 38,
   "metadata": {
    "collapsed": true
   },
   "outputs": [],
   "source": [
    "def compute_average(num_list):\n",
    "    sum = 0 \n",
    "    count = len(num_list)\n",
    "    for value in num_list:\n",
    "        sum = sum + value\n",
    "        \n",
    "    avg_value = sum / count\n",
    "    return(avg_value)\n",
    "        "
   ]
  },
  {
   "cell_type": "code",
   "execution_count": 39,
   "metadata": {},
   "outputs": [
    {
     "data": {
      "text/plain": [
       "40.6"
      ]
     },
     "execution_count": 39,
     "metadata": {},
     "output_type": "execute_result"
    }
   ],
   "source": [
    "scores = [78, 34, 23, 12, 56]\n",
    "compute_average(scores)"
   ]
  },
  {
   "cell_type": "code",
   "execution_count": 78,
   "metadata": {
    "collapsed": true
   },
   "outputs": [],
   "source": [
    "def my_min_finder(*values):\n",
    "    print(\"Receied values \", values)\n",
    "    return(min(values))\n"
   ]
  },
  {
   "cell_type": "code",
   "execution_count": null,
   "metadata": {
    "collapsed": true
   },
   "outputs": [],
   "source": [
    "my_min_finder(12, 34, 45)"
   ]
  },
  {
   "cell_type": "code",
   "execution_count": null,
   "metadata": {
    "collapsed": true
   },
   "outputs": [],
   "source": [
    "my_min_finder(12, 34, 45, 34, 67, 1)"
   ]
  },
  {
   "cell_type": "markdown",
   "metadata": {},
   "source": [
    "# Builtin Functions"
   ]
  },
  {
   "cell_type": "code",
   "execution_count": null,
   "metadata": {
    "collapsed": true
   },
   "outputs": [],
   "source": [
    "scores = [10, 34, 12, 45, 56, 45]\n",
    "print(scores)"
   ]
  },
  {
   "cell_type": "code",
   "execution_count": null,
   "metadata": {
    "collapsed": true
   },
   "outputs": [],
   "source": [
    "len(scores)"
   ]
  },
  {
   "cell_type": "code",
   "execution_count": null,
   "metadata": {
    "collapsed": true
   },
   "outputs": [],
   "source": [
    "sum(scores)"
   ]
  },
  {
   "cell_type": "code",
   "execution_count": null,
   "metadata": {
    "collapsed": true
   },
   "outputs": [],
   "source": [
    "max(scores)"
   ]
  },
  {
   "cell_type": "code",
   "execution_count": null,
   "metadata": {
    "collapsed": true
   },
   "outputs": [],
   "source": [
    "min(scores)"
   ]
  }
 ],
 "metadata": {
  "kernelspec": {
   "display_name": "Python 3",
   "language": "python",
   "name": "python3"
  },
  "language_info": {
   "codemirror_mode": {
    "name": "ipython",
    "version": 3
   },
   "file_extension": ".py",
   "mimetype": "text/x-python",
   "name": "python",
   "nbconvert_exporter": "python",
   "pygments_lexer": "ipython3",
   "version": "3.7.3"
  }
 },
 "nbformat": 4,
 "nbformat_minor": 2
}
