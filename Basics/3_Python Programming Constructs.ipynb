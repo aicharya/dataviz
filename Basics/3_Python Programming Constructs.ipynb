{
  "nbformat": 4,
  "nbformat_minor": 0,
  "metadata": {
    "kernelspec": {
      "display_name": "Python 3",
      "language": "python",
      "name": "python3"
    },
    "language_info": {
      "codemirror_mode": {
        "name": "ipython",
        "version": 3
      },
      "file_extension": ".py",
      "mimetype": "text/x-python",
      "name": "python",
      "nbconvert_exporter": "python",
      "pygments_lexer": "ipython3",
      "version": "3.7.3"
    },
    "colab": {
      "name": "3_Python Programming Constructs.ipynb",
      "provenance": []
    }
  },
  "cells": [
    {
      "cell_type": "markdown",
      "metadata": {
        "id": "HTs9ktrWXNe0",
        "colab_type": "text"
      },
      "source": [
        "# Python Programming Constructs"
      ]
    },
    {
      "cell_type": "markdown",
      "metadata": {
        "collapsed": true,
        "id": "0dqwzlSSXNe6",
        "colab_type": "text"
      },
      "source": [
        "# Comparison Operators"
      ]
    },
    {
      "cell_type": "code",
      "metadata": {
        "id": "SOuBxN5VXNe8",
        "colab_type": "code",
        "colab": {
          "base_uri": "https://localhost:8080/",
          "height": 35
        },
        "outputId": "6cb346d5-5bc0-4319-e9ef-d88e7dbbd17f"
      },
      "source": [
        "var1 = 59\n",
        "var1 == 6"
      ],
      "execution_count": 1,
      "outputs": [
        {
          "output_type": "execute_result",
          "data": {
            "text/plain": [
              "False"
            ]
          },
          "metadata": {
            "tags": []
          },
          "execution_count": 1
        }
      ]
    },
    {
      "cell_type": "code",
      "metadata": {
        "id": "uMdSvq13XNfF",
        "colab_type": "code",
        "colab": {
          "base_uri": "https://localhost:8080/",
          "height": 35
        },
        "outputId": "99484680-a805-4711-b51e-8399373bafa1"
      },
      "source": [
        "num1 = 6\n",
        "num1 > 50"
      ],
      "execution_count": 2,
      "outputs": [
        {
          "output_type": "execute_result",
          "data": {
            "text/plain": [
              "False"
            ]
          },
          "metadata": {
            "tags": []
          },
          "execution_count": 2
        }
      ]
    },
    {
      "cell_type": "code",
      "metadata": {
        "id": "afYNpJH4XNfJ",
        "colab_type": "code",
        "colab": {
          "base_uri": "https://localhost:8080/",
          "height": 35
        },
        "outputId": "7b5c31eb-717a-4641-bf19-2e4467de909f"
      },
      "source": [
        "num1 = 20 \n",
        "num1 < 50"
      ],
      "execution_count": 3,
      "outputs": [
        {
          "output_type": "execute_result",
          "data": {
            "text/plain": [
              "True"
            ]
          },
          "metadata": {
            "tags": []
          },
          "execution_count": 3
        }
      ]
    },
    {
      "cell_type": "code",
      "metadata": {
        "id": "FT55l8geXNfM",
        "colab_type": "code",
        "colab": {
          "base_uri": "https://localhost:8080/",
          "height": 35
        },
        "outputId": "4821fad6-18a8-4437-f812-ec8a1382e2fb"
      },
      "source": [
        "num1 = 78\n",
        "num1 != 45"
      ],
      "execution_count": 4,
      "outputs": [
        {
          "output_type": "execute_result",
          "data": {
            "text/plain": [
              "True"
            ]
          },
          "metadata": {
            "tags": []
          },
          "execution_count": 4
        }
      ]
    },
    {
      "cell_type": "code",
      "metadata": {
        "id": "HPhrjUWfXNfP",
        "colab_type": "code",
        "colab": {
          "base_uri": "https://localhost:8080/",
          "height": 35
        },
        "outputId": "72b5ff40-4ec0-46c7-bdb9-e92febeb0d1e"
      },
      "source": [
        "num1 = 34\n",
        "num1 != 34"
      ],
      "execution_count": 5,
      "outputs": [
        {
          "output_type": "execute_result",
          "data": {
            "text/plain": [
              "False"
            ]
          },
          "metadata": {
            "tags": []
          },
          "execution_count": 5
        }
      ]
    },
    {
      "cell_type": "code",
      "metadata": {
        "id": "G2_9G6clXNfT",
        "colab_type": "code",
        "colab": {
          "base_uri": "https://localhost:8080/",
          "height": 35
        },
        "outputId": "006f5b6b-9069-4a8d-ec33-31e9e37fc496"
      },
      "source": [
        "\"String1\" == \"String1\""
      ],
      "execution_count": 6,
      "outputs": [
        {
          "output_type": "execute_result",
          "data": {
            "text/plain": [
              "True"
            ]
          },
          "metadata": {
            "tags": []
          },
          "execution_count": 6
        }
      ]
    },
    {
      "cell_type": "code",
      "metadata": {
        "id": "HhvXOy9VXNfW",
        "colab_type": "code",
        "colab": {
          "base_uri": "https://localhost:8080/",
          "height": 35
        },
        "outputId": "d0df6f70-a4ef-42ff-b2b4-40a6f5a88a9b"
      },
      "source": [
        "\"String1\" != \"String1\""
      ],
      "execution_count": 7,
      "outputs": [
        {
          "output_type": "execute_result",
          "data": {
            "text/plain": [
              "False"
            ]
          },
          "metadata": {
            "tags": []
          },
          "execution_count": 7
        }
      ]
    },
    {
      "cell_type": "code",
      "metadata": {
        "id": "6wj6HPi-XNfZ",
        "colab_type": "code",
        "colab": {
          "base_uri": "https://localhost:8080/",
          "height": 35
        },
        "outputId": "5d228512-ee55-4cbe-dacb-7a91053db1ef"
      },
      "source": [
        "\"firstString\" == \"secondString\""
      ],
      "execution_count": 8,
      "outputs": [
        {
          "output_type": "execute_result",
          "data": {
            "text/plain": [
              "False"
            ]
          },
          "metadata": {
            "tags": []
          },
          "execution_count": 8
        }
      ]
    },
    {
      "cell_type": "code",
      "metadata": {
        "id": "L5fTEqXRXNfc",
        "colab_type": "code",
        "colab": {
          "base_uri": "https://localhost:8080/",
          "height": 35
        },
        "outputId": "8d97ff02-6706-46f2-b833-e08ec5736ad8"
      },
      "source": [
        "\"firstString\" != \"secondString\""
      ],
      "execution_count": 9,
      "outputs": [
        {
          "output_type": "execute_result",
          "data": {
            "text/plain": [
              "True"
            ]
          },
          "metadata": {
            "tags": []
          },
          "execution_count": 9
        }
      ]
    },
    {
      "cell_type": "markdown",
      "metadata": {
        "collapsed": true,
        "id": "EILCqIA7XNff",
        "colab_type": "text"
      },
      "source": [
        "# Branching / Conditional Statements"
      ]
    },
    {
      "cell_type": "code",
      "metadata": {
        "id": "RGnMbGS4XNfg",
        "colab_type": "code",
        "colab": {
          "base_uri": "https://localhost:8080/",
          "height": 35
        },
        "outputId": "05d1c480-d127-4cde-dd7f-8baedd0c48f7"
      },
      "source": [
        "score = 15\n",
        "#score = 99\n",
        "\n",
        "if score > 50:\n",
        "    print(\"You passed!\")\n",
        "    print(\"This is part of if only\")\n",
        "    \n",
        "print(\"Your score is \", score)    "
      ],
      "execution_count": 10,
      "outputs": [
        {
          "output_type": "stream",
          "text": [
            "Your score is  15\n"
          ],
          "name": "stdout"
        }
      ]
    },
    {
      "cell_type": "code",
      "metadata": {
        "id": "cEGqhtqIXNfj",
        "colab_type": "code",
        "colab": {
          "base_uri": "https://localhost:8080/",
          "height": 54
        },
        "outputId": "05df65fd-73e3-4bf5-ee11-b7eda8eb26ee"
      },
      "source": [
        "score = 15\n",
        "score = 99\n",
        "\n",
        "if score > 50:\n",
        "    print(\"You passed!\")\n",
        "else:    \n",
        "    print(\"You have not passed!\")\n",
        "    \n",
        "print(\"Your score is \", score) "
      ],
      "execution_count": 11,
      "outputs": [
        {
          "output_type": "stream",
          "text": [
            "You passed!\n",
            "Your score is  99\n"
          ],
          "name": "stdout"
        }
      ]
    },
    {
      "cell_type": "code",
      "metadata": {
        "id": "s0yWgDuYXNfm",
        "colab_type": "code",
        "colab": {
          "base_uri": "https://localhost:8080/",
          "height": 54
        },
        "outputId": "ecda7c0d-3dcb-4c43-9b73-aeb8de1641c2"
      },
      "source": [
        "score = 15\n",
        "score = 99\n",
        "score = 60\n",
        "\n",
        "if score > 50 and score <= 99:\n",
        "    print(\"You passed!\")\n",
        "elif score > 0 and score < 50:\n",
        "    print(\"You can reapper for the exam!\")\n",
        "else:    \n",
        "    print(\"Not a valid score!\")\n",
        "    \n",
        "print(\"Your score is \", score) "
      ],
      "execution_count": 14,
      "outputs": [
        {
          "output_type": "stream",
          "text": [
            "You passed!\n",
            "Your score is  60\n"
          ],
          "name": "stdout"
        }
      ]
    },
    {
      "cell_type": "code",
      "metadata": {
        "id": "gwQIMFFmXNfq",
        "colab_type": "code",
        "colab": {
          "base_uri": "https://localhost:8080/",
          "height": 54
        },
        "outputId": "88e4447a-c057-4611-967a-70c322c5e24b"
      },
      "source": [
        "input_score = input(\"Enter score\")\n",
        "int_score = int(input_score)\n",
        "\n",
        "if int_score > 0 and int_score < 35:\n",
        "    print(\"You Failed!\")\n",
        "elif int_score >= 35 and int_score <= 99:\n",
        "    print(\"You passed\")\n",
        "else:\n",
        "    print(\"Invalid score!\")"
      ],
      "execution_count": 15,
      "outputs": [
        {
          "output_type": "stream",
          "text": [
            "Enter score65\n",
            "You passed\n"
          ],
          "name": "stdout"
        }
      ]
    },
    {
      "cell_type": "markdown",
      "metadata": {
        "collapsed": true,
        "id": "LLdJPvHFXNfs",
        "colab_type": "text"
      },
      "source": [
        "# Logical Operators"
      ]
    },
    {
      "cell_type": "code",
      "metadata": {
        "id": "AT8bO9HAXNft",
        "colab_type": "code",
        "colab": {
          "base_uri": "https://localhost:8080/",
          "height": 54
        },
        "outputId": "63d6527f-3efe-4392-997f-60e3b1983f91"
      },
      "source": [
        "score = 15\n",
        "#score = 99\n",
        "#score = 0\n",
        "\n",
        "if score > 50 and score <= 99:\n",
        "    print(\"You passed!\")\n",
        "elif score > 0 and score < 50:\n",
        "    print(\"You can reapper for the exam!\")\n",
        "else:    \n",
        "    print(\"Not a valid score!\")\n",
        "    \n",
        "print(\"Your score is \", score) "
      ],
      "execution_count": 16,
      "outputs": [
        {
          "output_type": "stream",
          "text": [
            "You can reapper for the exam!\n",
            "Your score is  15\n"
          ],
          "name": "stdout"
        }
      ]
    },
    {
      "cell_type": "code",
      "metadata": {
        "id": "2v2qyG4mXNfw",
        "colab_type": "code",
        "colab": {
          "base_uri": "https://localhost:8080/",
          "height": 35
        },
        "outputId": "b360abfe-1e87-4395-b18e-ec2b9cd2ecca"
      },
      "source": [
        "album_year = 1981\n",
        "\n",
        "if(album_year < 1980) or (album_year > 1989):\n",
        "    print (\"Album was not made in the 1980's\")\n",
        "else:\n",
        "    print(\"The Album was made in the 1980's \")"
      ],
      "execution_count": 17,
      "outputs": [
        {
          "output_type": "stream",
          "text": [
            "The Album was made in the 1980's \n"
          ],
          "name": "stdout"
        }
      ]
    },
    {
      "cell_type": "code",
      "metadata": {
        "id": "yg_cpwKfXNfy",
        "colab_type": "code",
        "colab": {
          "base_uri": "https://localhost:8080/",
          "height": 54
        },
        "outputId": "1c3228af-9917-4d0e-eb07-640288c4d85f"
      },
      "source": [
        "score = 15\n",
        "#score = 99\n",
        "#score = 0\n",
        "\n",
        "if score <= 0 or score > 99:\n",
        "    print(\"Invalid Score!\")\n",
        "else:\n",
        "    print(\"You scored something!\")\n",
        "    \n",
        "print(\"Your score is \", score) "
      ],
      "execution_count": 18,
      "outputs": [
        {
          "output_type": "stream",
          "text": [
            "You scored something!\n",
            "Your score is  15\n"
          ],
          "name": "stdout"
        }
      ]
    },
    {
      "cell_type": "code",
      "metadata": {
        "id": "K8UpUEHsXNf1",
        "colab_type": "code",
        "colab": {
          "base_uri": "https://localhost:8080/",
          "height": 35
        },
        "outputId": "3304eb7c-1bc2-41ca-b5c2-5a3313454370"
      },
      "source": [
        "score = 15\n",
        "#score = 99\n",
        "#score = 0\n",
        "\n",
        "if not (score == 0 and score == 100):\n",
        "    print (\"You scored something invalid\")\n"
      ],
      "execution_count": 19,
      "outputs": [
        {
          "output_type": "stream",
          "text": [
            "You scored something invalid\n"
          ],
          "name": "stdout"
        }
      ]
    },
    {
      "cell_type": "markdown",
      "metadata": {
        "collapsed": true,
        "id": "s-iFBLwVXNf3",
        "colab_type": "text"
      },
      "source": [
        "# For Loops"
      ]
    },
    {
      "cell_type": "code",
      "metadata": {
        "id": "blYtnB2qXNf4",
        "colab_type": "code",
        "colab": {
          "base_uri": "https://localhost:8080/",
          "height": 35
        },
        "outputId": "3cf6b5c9-b13a-4451-933a-08c87f3936eb"
      },
      "source": [
        "range(5)"
      ],
      "execution_count": 20,
      "outputs": [
        {
          "output_type": "execute_result",
          "data": {
            "text/plain": [
              "range(0, 5)"
            ]
          },
          "metadata": {
            "tags": []
          },
          "execution_count": 20
        }
      ]
    },
    {
      "cell_type": "code",
      "metadata": {
        "id": "sgVTcgofXNf7",
        "colab_type": "code",
        "colab": {
          "base_uri": "https://localhost:8080/",
          "height": 108
        },
        "outputId": "d1f6f54e-35cc-425d-8f5f-02439705a786"
      },
      "source": [
        "for i in range(5):\n",
        "    print(i)"
      ],
      "execution_count": 21,
      "outputs": [
        {
          "output_type": "stream",
          "text": [
            "0\n",
            "1\n",
            "2\n",
            "3\n",
            "4\n"
          ],
          "name": "stdout"
        }
      ]
    },
    {
      "cell_type": "code",
      "metadata": {
        "id": "5dXCJoU5XNf_",
        "colab_type": "code",
        "colab": {
          "base_uri": "https://localhost:8080/",
          "height": 163
        },
        "outputId": "49361b84-d812-44e3-df95-940ac3ce6e9d"
      },
      "source": [
        "for i in range(0,8):\n",
        "    print(i)"
      ],
      "execution_count": 22,
      "outputs": [
        {
          "output_type": "stream",
          "text": [
            "0\n",
            "1\n",
            "2\n",
            "3\n",
            "4\n",
            "5\n",
            "6\n",
            "7\n"
          ],
          "name": "stdout"
        }
      ]
    },
    {
      "cell_type": "code",
      "metadata": {
        "id": "Tho-wUy5XNgD",
        "colab_type": "code",
        "colab": {
          "base_uri": "https://localhost:8080/",
          "height": 72
        },
        "outputId": "ec50c151-df43-489f-e914-def229cdae70"
      },
      "source": [
        "scores = [30, 45, 12]\n",
        "n = len(scores)\n",
        "\n",
        "for i in range(n):\n",
        "    print(scores[i])  "
      ],
      "execution_count": 23,
      "outputs": [
        {
          "output_type": "stream",
          "text": [
            "30\n",
            "45\n",
            "12\n"
          ],
          "name": "stdout"
        }
      ]
    },
    {
      "cell_type": "code",
      "metadata": {
        "id": "lXoXdCK1XNgF",
        "colab_type": "code",
        "colab": {
          "base_uri": "https://localhost:8080/",
          "height": 72
        },
        "outputId": "b83c00e9-0039-435c-e9f8-3f229e73bc95"
      },
      "source": [
        "scores = [30, 45, 12]\n",
        "for score in scores:  \n",
        "    print(score)  \n",
        " "
      ],
      "execution_count": 24,
      "outputs": [
        {
          "output_type": "stream",
          "text": [
            "30\n",
            "45\n",
            "12\n"
          ],
          "name": "stdout"
        }
      ]
    },
    {
      "cell_type": "code",
      "metadata": {
        "id": "JR0SX7ZwXNgH",
        "colab_type": "code",
        "colab": {
          "base_uri": "https://localhost:8080/",
          "height": 235
        },
        "outputId": "fb6be842-169e-41a9-a59e-c9a3706c13bf"
      },
      "source": [
        "squares = [0, 1, 4, 9, 16]\n",
        "\n",
        "for i in range(0,5):\n",
        "    print(\"number : \", i, \"  \", \"square : \", squares[i])\n",
        "    squares[i] = i * i * i;\n",
        "    \n",
        "print(\"\\nAfter change:\")    \n",
        "for i in range(0,5):\n",
        "    print(\"number : \", i, \"  \", \"square : \", squares[i])    "
      ],
      "execution_count": 25,
      "outputs": [
        {
          "output_type": "stream",
          "text": [
            "number :  0    square :  0\n",
            "number :  1    square :  1\n",
            "number :  2    square :  4\n",
            "number :  3    square :  9\n",
            "number :  4    square :  16\n",
            "\n",
            "After change:\n",
            "number :  0    square :  0\n",
            "number :  1    square :  1\n",
            "number :  2    square :  8\n",
            "number :  3    square :  27\n",
            "number :  4    square :  64\n"
          ],
          "name": "stdout"
        }
      ]
    },
    {
      "cell_type": "code",
      "metadata": {
        "id": "ywOg6w2FXNgK",
        "colab_type": "code",
        "colab": {
          "base_uri": "https://localhost:8080/",
          "height": 108
        },
        "outputId": "1c47ac06-e246-4235-bcf3-de104f25cb45"
      },
      "source": [
        "squares = [0, 1, 4, 9, 16]\n",
        "\n",
        "for i, square in enumerate(squares):\n",
        "    print(\"index : \", i, \"  \", \"value : \" , square)"
      ],
      "execution_count": 27,
      "outputs": [
        {
          "output_type": "stream",
          "text": [
            "index :  0    value :  0\n",
            "index :  1    value :  1\n",
            "index :  2    value :  4\n",
            "index :  3    value :  9\n",
            "index :  4    value :  16\n"
          ],
          "name": "stdout"
        }
      ]
    },
    {
      "cell_type": "code",
      "metadata": {
        "id": "INO4nlsHXNgP",
        "colab_type": "code",
        "colab": {
          "base_uri": "https://localhost:8080/",
          "height": 363
        },
        "outputId": "c3afa497-2b62-4acc-880b-6f2b5bac33f7"
      },
      "source": [
        "for i in (11,31,51):\n",
        "    print(i)\n",
        "print()   \n",
        "\n",
        "for i in range(11,15):\n",
        "    print(i)    \n",
        "print()        \n",
        "\n",
        "for i in range(0,5, 2):\n",
        "    print(i)    \n",
        "print()        \n",
        "\n",
        "for i in range(100,90, -2):\n",
        "    print(i)    \n",
        "print() "
      ],
      "execution_count": 28,
      "outputs": [
        {
          "output_type": "stream",
          "text": [
            "11\n",
            "31\n",
            "51\n",
            "\n",
            "11\n",
            "12\n",
            "13\n",
            "14\n",
            "\n",
            "0\n",
            "2\n",
            "4\n",
            "\n",
            "100\n",
            "98\n",
            "96\n",
            "94\n",
            "92\n",
            "\n"
          ],
          "name": "stdout"
        }
      ]
    },
    {
      "cell_type": "markdown",
      "metadata": {
        "collapsed": true,
        "id": "o0epO3yNXNgR",
        "colab_type": "text"
      },
      "source": [
        "# While Loops"
      ]
    },
    {
      "cell_type": "code",
      "metadata": {
        "id": "YUQksRCjXNgS",
        "colab_type": "code",
        "colab": {
          "base_uri": "https://localhost:8080/",
          "height": 72
        },
        "outputId": "051ab0ab-7481-401e-a5ed-321b98ef511f"
      },
      "source": [
        "scores = [78, 34, 23, 12, 56]\n",
        "\n",
        "index = 0\n",
        "score = 0\n",
        "\n",
        "while(index != 3):\n",
        "    score = scores[index]\n",
        "    print(score)\n",
        "    index = index + 1\n"
      ],
      "execution_count": 29,
      "outputs": [
        {
          "output_type": "stream",
          "text": [
            "78\n",
            "34\n",
            "23\n"
          ],
          "name": "stdout"
        }
      ]
    },
    {
      "cell_type": "markdown",
      "metadata": {
        "collapsed": true,
        "id": "tyHLKwY2XNgV",
        "colab_type": "text"
      },
      "source": [
        "# Custom Function"
      ]
    },
    {
      "cell_type": "code",
      "metadata": {
        "id": "j2T0hwcjXNgW",
        "colab_type": "code",
        "colab": {}
      },
      "source": [
        "def my_add_function(number1, number2):\n",
        "    \"\"\"This function adds two given numbers\"\"\"\n",
        "    answer = number1 + number2\n",
        "    \n",
        "    print(\"Addtion of \", number1, \" and \", number2, \" is \", answer)\n"
      ],
      "execution_count": 0,
      "outputs": []
    },
    {
      "cell_type": "code",
      "metadata": {
        "id": "olwXypjmXNgY",
        "colab_type": "code",
        "colab": {
          "base_uri": "https://localhost:8080/",
          "height": 108
        },
        "outputId": "1efe8709-c0f1-4d80-f848-d2ed102bad3e"
      },
      "source": [
        "help(my_add_function)"
      ],
      "execution_count": 31,
      "outputs": [
        {
          "output_type": "stream",
          "text": [
            "Help on function my_add_function in module __main__:\n",
            "\n",
            "my_add_function(number1, number2)\n",
            "    This function adds two given numbers\n",
            "\n"
          ],
          "name": "stdout"
        }
      ]
    },
    {
      "cell_type": "code",
      "metadata": {
        "id": "YhwLUN_ZXNgb",
        "colab_type": "code",
        "colab": {
          "base_uri": "https://localhost:8080/",
          "height": 35
        },
        "outputId": "726c1080-a399-439a-a920-6c774f7d1500"
      },
      "source": [
        "my_add_function(1, 5)"
      ],
      "execution_count": 32,
      "outputs": [
        {
          "output_type": "stream",
          "text": [
            "Addtion of  1  and  5  is  6\n"
          ],
          "name": "stdout"
        }
      ]
    },
    {
      "cell_type": "code",
      "metadata": {
        "id": "0-3Hc_QQXNge",
        "colab_type": "code",
        "colab": {}
      },
      "source": [
        "def my_modified_add_function(number1, number2):\n",
        "    \"\"\"This function adds two given numbers and returns value\"\"\"\n",
        "    answer = number1 + number2\n",
        "    \n",
        "    #print(\"Addtion of \", number1, \" and \", number2, \" is \", answer)\n",
        "    return(answer)"
      ],
      "execution_count": 0,
      "outputs": []
    },
    {
      "cell_type": "code",
      "metadata": {
        "id": "2tnIr8YmXNgh",
        "colab_type": "code",
        "colab": {
          "base_uri": "https://localhost:8080/",
          "height": 108
        },
        "outputId": "b5f13109-0aab-4b41-bcb7-820eee6cc673"
      },
      "source": [
        "help(my_modified_add_function)"
      ],
      "execution_count": 34,
      "outputs": [
        {
          "output_type": "stream",
          "text": [
            "Help on function my_modified_add_function in module __main__:\n",
            "\n",
            "my_modified_add_function(number1, number2)\n",
            "    This function adds two given numbers and returns value\n",
            "\n"
          ],
          "name": "stdout"
        }
      ]
    },
    {
      "cell_type": "code",
      "metadata": {
        "id": "nzR59T4dXNgk",
        "colab_type": "code",
        "colab": {
          "base_uri": "https://localhost:8080/",
          "height": 35
        },
        "outputId": "d0b524b8-f762-4247-900d-a18ce862eda3"
      },
      "source": [
        "return_value = my_modified_add_function(45, 3)\n",
        "return_value"
      ],
      "execution_count": 35,
      "outputs": [
        {
          "output_type": "execute_result",
          "data": {
            "text/plain": [
              "48"
            ]
          },
          "metadata": {
            "tags": []
          },
          "execution_count": 35
        }
      ]
    },
    {
      "cell_type": "code",
      "metadata": {
        "id": "5MM5avb1XNgn",
        "colab_type": "code",
        "colab": {}
      },
      "source": [
        "def my_multiplication_function(value1, value2):\n",
        "    value = value1 * value2\n",
        "    return(value)"
      ],
      "execution_count": 0,
      "outputs": []
    },
    {
      "cell_type": "code",
      "metadata": {
        "id": "c77xirYGXNgp",
        "colab_type": "code",
        "colab": {
          "base_uri": "https://localhost:8080/",
          "height": 35
        },
        "outputId": "bc7fc26d-3f75-46ef-af52-c2f01a349290"
      },
      "source": [
        "my_multiplication_function(10,3.14)"
      ],
      "execution_count": 38,
      "outputs": [
        {
          "output_type": "execute_result",
          "data": {
            "text/plain": [
              "31.400000000000002"
            ]
          },
          "metadata": {
            "tags": []
          },
          "execution_count": 38
        }
      ]
    },
    {
      "cell_type": "code",
      "metadata": {
        "id": "XWCm7FTVXNgs",
        "colab_type": "code",
        "colab": {
          "base_uri": "https://localhost:8080/",
          "height": 35
        },
        "outputId": "55d9bcbb-8fb8-44af-a1a4-857400625173"
      },
      "source": [
        "my_multiplication_function(3,\"Python\")"
      ],
      "execution_count": 39,
      "outputs": [
        {
          "output_type": "execute_result",
          "data": {
            "text/plain": [
              "'PythonPythonPython'"
            ]
          },
          "metadata": {
            "tags": []
          },
          "execution_count": 39
        }
      ]
    },
    {
      "cell_type": "code",
      "metadata": {
        "id": "en4b1NFpXNgv",
        "colab_type": "code",
        "colab": {}
      },
      "source": [
        "def compute_average(num_list):\n",
        "    sum = 0 \n",
        "    count = len(num_list)\n",
        "    for value in num_list:\n",
        "        sum = sum + value\n",
        "        \n",
        "    avg_value = sum / count\n",
        "    return(avg_value)\n",
        "        "
      ],
      "execution_count": 0,
      "outputs": []
    },
    {
      "cell_type": "code",
      "metadata": {
        "id": "4AQjXEqtXNg0",
        "colab_type": "code",
        "colab": {
          "base_uri": "https://localhost:8080/",
          "height": 35
        },
        "outputId": "a691fa98-6c32-4b7e-8874-57bd6dde0d36"
      },
      "source": [
        "scores = [78, 34, 23, 12, 56]\n",
        "compute_average(scores)"
      ],
      "execution_count": 41,
      "outputs": [
        {
          "output_type": "execute_result",
          "data": {
            "text/plain": [
              "40.6"
            ]
          },
          "metadata": {
            "tags": []
          },
          "execution_count": 41
        }
      ]
    },
    {
      "cell_type": "code",
      "metadata": {
        "id": "0Oo_so9QXNg2",
        "colab_type": "code",
        "colab": {}
      },
      "source": [
        "def my_min_finder(*values):\n",
        "    print(\"Receied values \", values)\n",
        "    return(min(values))\n"
      ],
      "execution_count": 0,
      "outputs": []
    },
    {
      "cell_type": "code",
      "metadata": {
        "id": "UgdspwkBXNg4",
        "colab_type": "code",
        "colab": {
          "base_uri": "https://localhost:8080/",
          "height": 54
        },
        "outputId": "0261f28c-7c2e-453b-ff7e-26d5689ef09e"
      },
      "source": [
        "my_min_finder(12, 34, 45)"
      ],
      "execution_count": 43,
      "outputs": [
        {
          "output_type": "stream",
          "text": [
            "Receied values  (12, 34, 45)\n"
          ],
          "name": "stdout"
        },
        {
          "output_type": "execute_result",
          "data": {
            "text/plain": [
              "12"
            ]
          },
          "metadata": {
            "tags": []
          },
          "execution_count": 43
        }
      ]
    },
    {
      "cell_type": "code",
      "metadata": {
        "id": "ly2nx3oMXNg7",
        "colab_type": "code",
        "colab": {
          "base_uri": "https://localhost:8080/",
          "height": 54
        },
        "outputId": "20603dad-ba27-4fb0-85bc-a82582c11a3f"
      },
      "source": [
        "my_min_finder(12, 34, 45, 34, 67, 1)"
      ],
      "execution_count": 44,
      "outputs": [
        {
          "output_type": "stream",
          "text": [
            "Receied values  (12, 34, 45, 34, 67, 1)\n"
          ],
          "name": "stdout"
        },
        {
          "output_type": "execute_result",
          "data": {
            "text/plain": [
              "1"
            ]
          },
          "metadata": {
            "tags": []
          },
          "execution_count": 44
        }
      ]
    },
    {
      "cell_type": "markdown",
      "metadata": {
        "id": "JYvudcgvXNg9",
        "colab_type": "text"
      },
      "source": [
        "# Builtin Functions"
      ]
    },
    {
      "cell_type": "code",
      "metadata": {
        "id": "NMAYr-EMXNg_",
        "colab_type": "code",
        "colab": {
          "base_uri": "https://localhost:8080/",
          "height": 35
        },
        "outputId": "38e2ae0f-9a83-4055-d9a5-6e8f9789c710"
      },
      "source": [
        "scores = [10, 34, 12, 45, 56, 45]\n",
        "print(scores)"
      ],
      "execution_count": 45,
      "outputs": [
        {
          "output_type": "stream",
          "text": [
            "[10, 34, 12, 45, 56, 45]\n"
          ],
          "name": "stdout"
        }
      ]
    },
    {
      "cell_type": "code",
      "metadata": {
        "id": "LJh-Nqd8XNhC",
        "colab_type": "code",
        "colab": {
          "base_uri": "https://localhost:8080/",
          "height": 35
        },
        "outputId": "cb3d23a0-e869-43dc-88ca-d1786af4c29f"
      },
      "source": [
        "len(scores)"
      ],
      "execution_count": 46,
      "outputs": [
        {
          "output_type": "execute_result",
          "data": {
            "text/plain": [
              "6"
            ]
          },
          "metadata": {
            "tags": []
          },
          "execution_count": 46
        }
      ]
    },
    {
      "cell_type": "code",
      "metadata": {
        "id": "VOmMmBdYXNhG",
        "colab_type": "code",
        "colab": {
          "base_uri": "https://localhost:8080/",
          "height": 35
        },
        "outputId": "f26951b4-86d8-4bc4-f264-594fa52a59a7"
      },
      "source": [
        "sum(scores)"
      ],
      "execution_count": 47,
      "outputs": [
        {
          "output_type": "execute_result",
          "data": {
            "text/plain": [
              "202"
            ]
          },
          "metadata": {
            "tags": []
          },
          "execution_count": 47
        }
      ]
    },
    {
      "cell_type": "code",
      "metadata": {
        "id": "mzNmcKA5XNhI",
        "colab_type": "code",
        "colab": {
          "base_uri": "https://localhost:8080/",
          "height": 35
        },
        "outputId": "8f87ff28-fdf9-4eff-ce83-e81e9b09a4a8"
      },
      "source": [
        "max(scores)"
      ],
      "execution_count": 48,
      "outputs": [
        {
          "output_type": "execute_result",
          "data": {
            "text/plain": [
              "56"
            ]
          },
          "metadata": {
            "tags": []
          },
          "execution_count": 48
        }
      ]
    },
    {
      "cell_type": "code",
      "metadata": {
        "id": "rL_6R6ndXNhL",
        "colab_type": "code",
        "colab": {
          "base_uri": "https://localhost:8080/",
          "height": 35
        },
        "outputId": "91eedd96-b79e-40f7-ff48-d5a268102397"
      },
      "source": [
        "min(scores)"
      ],
      "execution_count": 49,
      "outputs": [
        {
          "output_type": "execute_result",
          "data": {
            "text/plain": [
              "10"
            ]
          },
          "metadata": {
            "tags": []
          },
          "execution_count": 49
        }
      ]
    }
  ]
}