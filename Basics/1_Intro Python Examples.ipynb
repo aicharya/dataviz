{
  "nbformat": 4,
  "nbformat_minor": 0,
  "metadata": {
    "kernelspec": {
      "display_name": "Python 3",
      "language": "python",
      "name": "python3"
    },
    "language_info": {
      "codemirror_mode": {
        "name": "ipython",
        "version": 3
      },
      "file_extension": ".py",
      "mimetype": "text/x-python",
      "name": "python",
      "nbconvert_exporter": "python",
      "pygments_lexer": "ipython3",
      "version": "3.7.3"
    },
    "colab": {
      "name": "1_Intro Python Examples.ipynb",
      "provenance": []
    }
  },
  "cells": [
    {
      "cell_type": "markdown",
      "metadata": {
        "id": "eAM6vUUJRhsE",
        "colab_type": "text"
      },
      "source": [
        "# Notebook 1 - Python Data Types, Variables and Expressions"
      ]
    },
    {
      "cell_type": "markdown",
      "metadata": {
        "id": "ivp9oHJIRhsK",
        "colab_type": "text"
      },
      "source": [
        "\n",
        "# Checking Python Version"
      ]
    },
    {
      "cell_type": "code",
      "metadata": {
        "id": "6OHsi_zaRhsN",
        "colab_type": "code",
        "colab": {
          "base_uri": "https://localhost:8080/",
          "height": 54
        },
        "outputId": "84b2dc72-d391-47d4-be96-1c46b9717269"
      },
      "source": [
        "import sys\n",
        "print(sys.version)"
      ],
      "execution_count": 1,
      "outputs": [
        {
          "output_type": "stream",
          "text": [
            "3.6.8 (default, Oct  7 2019, 12:59:55) \n",
            "[GCC 8.3.0]\n"
          ],
          "name": "stdout"
        }
      ]
    },
    {
      "cell_type": "markdown",
      "metadata": {
        "id": "Uzw-s_HpRhsW",
        "colab_type": "text"
      },
      "source": [
        "# Printing with Python"
      ]
    },
    {
      "cell_type": "code",
      "metadata": {
        "id": "GCRerAD8RhsX",
        "colab_type": "code",
        "colab": {
          "base_uri": "https://localhost:8080/",
          "height": 35
        },
        "outputId": "dd3c86df-e5b2-498b-984a-4ec7c90b7221"
      },
      "source": [
        "print('Hello, Python World!')"
      ],
      "execution_count": 2,
      "outputs": [
        {
          "output_type": "stream",
          "text": [
            "Hello, Python World!\n"
          ],
          "name": "stdout"
        }
      ]
    },
    {
      "cell_type": "markdown",
      "metadata": {
        "id": "cKMdvH4fRhsa",
        "colab_type": "text"
      },
      "source": [
        "this is comment "
      ]
    },
    {
      "cell_type": "code",
      "metadata": {
        "id": "7cT61SvORhsb",
        "colab_type": "code",
        "colab": {
          "base_uri": "https://localhost:8080/",
          "height": 35
        },
        "outputId": "e6284d0b-a652-4fdf-82e8-4f76d3c5eabb"
      },
      "source": [
        "print('Hello, Python World!') # This line prints a string\n",
        "# print('Hi')  # line with # at begining treated as comment"
      ],
      "execution_count": 3,
      "outputs": [
        {
          "output_type": "stream",
          "text": [
            "Hello, Python World!\n"
          ],
          "name": "stdout"
        }
      ]
    },
    {
      "cell_type": "code",
      "metadata": {
        "id": "uTMovDJ9Rhsd",
        "colab_type": "code",
        "colab": {
          "base_uri": "https://localhost:8080/",
          "height": 171
        },
        "outputId": "e540a6e1-ebdc-4b0e-c413-1ce95e742c55"
      },
      "source": [
        "frint(\"Hello, Error!\")"
      ],
      "execution_count": 4,
      "outputs": [
        {
          "output_type": "error",
          "ename": "NameError",
          "evalue": "ignored",
          "traceback": [
            "\u001b[0;31m---------------------------------------------------------------------------\u001b[0m",
            "\u001b[0;31mNameError\u001b[0m                                 Traceback (most recent call last)",
            "\u001b[0;32m<ipython-input-4-1caa2337e8fd>\u001b[0m in \u001b[0;36m<module>\u001b[0;34m()\u001b[0m\n\u001b[0;32m----> 1\u001b[0;31m \u001b[0mfrint\u001b[0m\u001b[0;34m(\u001b[0m\u001b[0;34m\"Hello, Error!\"\u001b[0m\u001b[0;34m)\u001b[0m\u001b[0;34m\u001b[0m\u001b[0;34m\u001b[0m\u001b[0m\n\u001b[0m",
            "\u001b[0;31mNameError\u001b[0m: name 'frint' is not defined"
          ]
        }
      ]
    },
    {
      "cell_type": "markdown",
      "metadata": {
        "id": "GDwkxLMdRhsg",
        "colab_type": "text"
      },
      "source": [
        "# Jupyter Notebook shortcuts\n"
      ]
    },
    {
      "cell_type": "code",
      "metadata": {
        "id": "DZtRzXLVRhsg",
        "colab_type": "code",
        "colab": {}
      },
      "source": [
        "# ctrl + enter to execute\n",
        "# shift + enter to execute and add a new cell\n",
        "# esc + a add cell above\n",
        "# esc + b add cell below \n",
        "# esc + x remove the cell\n",
        "# esc + ry clear the output"
      ],
      "execution_count": 0,
      "outputs": []
    },
    {
      "cell_type": "markdown",
      "metadata": {
        "id": "MuomENRmRhsj",
        "colab_type": "text"
      },
      "source": [
        "# Data Types"
      ]
    },
    {
      "cell_type": "code",
      "metadata": {
        "id": "rlypxUS7Rhsj",
        "colab_type": "code",
        "colab": {
          "base_uri": "https://localhost:8080/",
          "height": 35
        },
        "outputId": "1d5ee530-d28c-4df9-99ce-7ac48f634912"
      },
      "source": [
        "type(10)"
      ],
      "execution_count": 5,
      "outputs": [
        {
          "output_type": "execute_result",
          "data": {
            "text/plain": [
              "int"
            ]
          },
          "metadata": {
            "tags": []
          },
          "execution_count": 5
        }
      ]
    },
    {
      "cell_type": "code",
      "metadata": {
        "id": "eLk_RBrGRhsn",
        "colab_type": "code",
        "colab": {
          "base_uri": "https://localhost:8080/",
          "height": 35
        },
        "outputId": "28719ab5-84da-404d-b185-06e08f5e1c1b"
      },
      "source": [
        "type(3.4)"
      ],
      "execution_count": 6,
      "outputs": [
        {
          "output_type": "execute_result",
          "data": {
            "text/plain": [
              "float"
            ]
          },
          "metadata": {
            "tags": []
          },
          "execution_count": 6
        }
      ]
    },
    {
      "cell_type": "code",
      "metadata": {
        "id": "EcptARfsRhsp",
        "colab_type": "code",
        "colab": {
          "base_uri": "https://localhost:8080/",
          "height": 35
        },
        "outputId": "269eb20a-59e3-476b-dde0-3470b70d38f3"
      },
      "source": [
        "type(\"python\")"
      ],
      "execution_count": 7,
      "outputs": [
        {
          "output_type": "execute_result",
          "data": {
            "text/plain": [
              "str"
            ]
          },
          "metadata": {
            "tags": []
          },
          "execution_count": 7
        }
      ]
    },
    {
      "cell_type": "code",
      "metadata": {
        "id": "aBKxtqJ2Rhsr",
        "colab_type": "code",
        "colab": {
          "base_uri": "https://localhost:8080/",
          "height": 35
        },
        "outputId": "2eea242f-9ded-493b-9545-99a82abde363"
      },
      "source": [
        "float(5)"
      ],
      "execution_count": 8,
      "outputs": [
        {
          "output_type": "execute_result",
          "data": {
            "text/plain": [
              "5.0"
            ]
          },
          "metadata": {
            "tags": []
          },
          "execution_count": 8
        }
      ]
    },
    {
      "cell_type": "code",
      "metadata": {
        "id": "XR6dD6zJRhsu",
        "colab_type": "code",
        "colab": {
          "base_uri": "https://localhost:8080/",
          "height": 35
        },
        "outputId": "08633d6f-2b53-4c8d-f5cc-107207f20d2e"
      },
      "source": [
        "type(float(5))"
      ],
      "execution_count": 9,
      "outputs": [
        {
          "output_type": "execute_result",
          "data": {
            "text/plain": [
              "float"
            ]
          },
          "metadata": {
            "tags": []
          },
          "execution_count": 9
        }
      ]
    },
    {
      "cell_type": "markdown",
      "metadata": {
        "id": "ukL1MdpvRhsw",
        "colab_type": "raw"
      },
      "source": [
        "type(True)"
      ]
    },
    {
      "cell_type": "code",
      "metadata": {
        "id": "nX-CUZ_bRhsx",
        "colab_type": "code",
        "colab": {
          "base_uri": "https://localhost:8080/",
          "height": 35
        },
        "outputId": "7eadb142-37f9-4c0e-a957-1516505d5c3d"
      },
      "source": [
        "type(False)"
      ],
      "execution_count": 10,
      "outputs": [
        {
          "output_type": "execute_result",
          "data": {
            "text/plain": [
              "bool"
            ]
          },
          "metadata": {
            "tags": []
          },
          "execution_count": 10
        }
      ]
    },
    {
      "cell_type": "code",
      "metadata": {
        "id": "orUFF1peRhsz",
        "colab_type": "code",
        "colab": {
          "base_uri": "https://localhost:8080/",
          "height": 35
        },
        "outputId": "b66244e9-7146-4989-b2e2-29b3bf7c4425"
      },
      "source": [
        "type(True)"
      ],
      "execution_count": 11,
      "outputs": [
        {
          "output_type": "execute_result",
          "data": {
            "text/plain": [
              "bool"
            ]
          },
          "metadata": {
            "tags": []
          },
          "execution_count": 11
        }
      ]
    },
    {
      "cell_type": "markdown",
      "metadata": {
        "id": "5Hm0002VRhs2",
        "colab_type": "text"
      },
      "source": [
        "# Type Casting"
      ]
    },
    {
      "cell_type": "code",
      "metadata": {
        "id": "EBxmc6ImRhs3",
        "colab_type": "code",
        "colab": {
          "base_uri": "https://localhost:8080/",
          "height": 35
        },
        "outputId": "26761163-9944-4bf7-9e33-a0d32f476abb"
      },
      "source": [
        "int(1.5)"
      ],
      "execution_count": 12,
      "outputs": [
        {
          "output_type": "execute_result",
          "data": {
            "text/plain": [
              "1"
            ]
          },
          "metadata": {
            "tags": []
          },
          "execution_count": 12
        }
      ]
    },
    {
      "cell_type": "code",
      "metadata": {
        "id": "2Y4Dcj_qRhs5",
        "colab_type": "code",
        "colab": {
          "base_uri": "https://localhost:8080/",
          "height": 35
        },
        "outputId": "1bc59b19-a142-43b3-b45a-baf1a133f18d"
      },
      "source": [
        "int('4')"
      ],
      "execution_count": 13,
      "outputs": [
        {
          "output_type": "execute_result",
          "data": {
            "text/plain": [
              "4"
            ]
          },
          "metadata": {
            "tags": []
          },
          "execution_count": 13
        }
      ]
    },
    {
      "cell_type": "code",
      "metadata": {
        "id": "3lBh_wI4Rhs8",
        "colab_type": "code",
        "colab": {
          "base_uri": "https://localhost:8080/",
          "height": 171
        },
        "outputId": "025a61c1-f186-4f01-bf1e-baedffa6d72d"
      },
      "source": [
        "int('x')"
      ],
      "execution_count": 14,
      "outputs": [
        {
          "output_type": "error",
          "ename": "ValueError",
          "evalue": "ignored",
          "traceback": [
            "\u001b[0;31m---------------------------------------------------------------------------\u001b[0m",
            "\u001b[0;31mValueError\u001b[0m                                Traceback (most recent call last)",
            "\u001b[0;32m<ipython-input-14-cb5d46a0762b>\u001b[0m in \u001b[0;36m<module>\u001b[0;34m()\u001b[0m\n\u001b[0;32m----> 1\u001b[0;31m \u001b[0mint\u001b[0m\u001b[0;34m(\u001b[0m\u001b[0;34m'x'\u001b[0m\u001b[0;34m)\u001b[0m\u001b[0;34m\u001b[0m\u001b[0;34m\u001b[0m\u001b[0m\n\u001b[0m",
            "\u001b[0;31mValueError\u001b[0m: invalid literal for int() with base 10: 'x'"
          ]
        }
      ]
    },
    {
      "cell_type": "code",
      "metadata": {
        "id": "WGlAzFgQRhs-",
        "colab_type": "code",
        "colab": {
          "base_uri": "https://localhost:8080/",
          "height": 171
        },
        "outputId": "27c05d62-db52-4483-a3ad-027b90350784"
      },
      "source": [
        "int('1.9')"
      ],
      "execution_count": 15,
      "outputs": [
        {
          "output_type": "error",
          "ename": "ValueError",
          "evalue": "ignored",
          "traceback": [
            "\u001b[0;31m---------------------------------------------------------------------------\u001b[0m",
            "\u001b[0;31mValueError\u001b[0m                                Traceback (most recent call last)",
            "\u001b[0;32m<ipython-input-15-23fca24bd3cc>\u001b[0m in \u001b[0;36m<module>\u001b[0;34m()\u001b[0m\n\u001b[0;32m----> 1\u001b[0;31m \u001b[0mint\u001b[0m\u001b[0;34m(\u001b[0m\u001b[0;34m'1.9'\u001b[0m\u001b[0;34m)\u001b[0m\u001b[0;34m\u001b[0m\u001b[0;34m\u001b[0m\u001b[0m\n\u001b[0m",
            "\u001b[0;31mValueError\u001b[0m: invalid literal for int() with base 10: '1.9'"
          ]
        }
      ]
    },
    {
      "cell_type": "code",
      "metadata": {
        "id": "FS_6-gVGRhtB",
        "colab_type": "code",
        "colab": {
          "base_uri": "https://localhost:8080/",
          "height": 35
        },
        "outputId": "914d5ac3-fcd6-46ce-e457-a528135df775"
      },
      "source": [
        "float('1.9')"
      ],
      "execution_count": 16,
      "outputs": [
        {
          "output_type": "execute_result",
          "data": {
            "text/plain": [
              "1.9"
            ]
          },
          "metadata": {
            "tags": []
          },
          "execution_count": 16
        }
      ]
    },
    {
      "cell_type": "code",
      "metadata": {
        "id": "xfesyglhRhtD",
        "colab_type": "code",
        "colab": {
          "base_uri": "https://localhost:8080/",
          "height": 171
        },
        "outputId": "1935419f-4ec8-4bcd-cd7d-9f33ca8ff1f6"
      },
      "source": [
        "float('q')"
      ],
      "execution_count": 17,
      "outputs": [
        {
          "output_type": "error",
          "ename": "ValueError",
          "evalue": "ignored",
          "traceback": [
            "\u001b[0;31m---------------------------------------------------------------------------\u001b[0m",
            "\u001b[0;31mValueError\u001b[0m                                Traceback (most recent call last)",
            "\u001b[0;32m<ipython-input-17-6f2dde4dd2c2>\u001b[0m in \u001b[0;36m<module>\u001b[0;34m()\u001b[0m\n\u001b[0;32m----> 1\u001b[0;31m \u001b[0mfloat\u001b[0m\u001b[0;34m(\u001b[0m\u001b[0;34m'q'\u001b[0m\u001b[0;34m)\u001b[0m\u001b[0;34m\u001b[0m\u001b[0;34m\u001b[0m\u001b[0m\n\u001b[0m",
            "\u001b[0;31mValueError\u001b[0m: could not convert string to float: 'q'"
          ]
        }
      ]
    },
    {
      "cell_type": "code",
      "metadata": {
        "id": "BBWPy_SLRhtK",
        "colab_type": "code",
        "colab": {
          "base_uri": "https://localhost:8080/",
          "height": 35
        },
        "outputId": "712a89b8-1e6d-4f32-a8d9-40fc68570e3f"
      },
      "source": [
        "str(9)"
      ],
      "execution_count": 18,
      "outputs": [
        {
          "output_type": "execute_result",
          "data": {
            "text/plain": [
              "'9'"
            ]
          },
          "metadata": {
            "tags": []
          },
          "execution_count": 18
        }
      ]
    },
    {
      "cell_type": "code",
      "metadata": {
        "id": "zMC9HtB1RhtO",
        "colab_type": "code",
        "colab": {
          "base_uri": "https://localhost:8080/",
          "height": 35
        },
        "outputId": "f44cc191-d322-46e2-d653-951624e61a89"
      },
      "source": [
        "str('0.2')"
      ],
      "execution_count": 19,
      "outputs": [
        {
          "output_type": "execute_result",
          "data": {
            "text/plain": [
              "'0.2'"
            ]
          },
          "metadata": {
            "tags": []
          },
          "execution_count": 19
        }
      ]
    },
    {
      "cell_type": "code",
      "metadata": {
        "id": "29IvbsIQRhtR",
        "colab_type": "code",
        "colab": {
          "base_uri": "https://localhost:8080/",
          "height": 35
        },
        "outputId": "edd5b236-341f-4b32-967c-298909bb0cfb"
      },
      "source": [
        "int(True)"
      ],
      "execution_count": 20,
      "outputs": [
        {
          "output_type": "execute_result",
          "data": {
            "text/plain": [
              "1"
            ]
          },
          "metadata": {
            "tags": []
          },
          "execution_count": 20
        }
      ]
    },
    {
      "cell_type": "code",
      "metadata": {
        "id": "xF4soboZRhtT",
        "colab_type": "code",
        "colab": {
          "base_uri": "https://localhost:8080/",
          "height": 35
        },
        "outputId": "ce02f7c9-9635-411d-8482-9547658e23db"
      },
      "source": [
        "int(False)"
      ],
      "execution_count": 21,
      "outputs": [
        {
          "output_type": "execute_result",
          "data": {
            "text/plain": [
              "0"
            ]
          },
          "metadata": {
            "tags": []
          },
          "execution_count": 21
        }
      ]
    },
    {
      "cell_type": "code",
      "metadata": {
        "id": "7YmacNgYRhtV",
        "colab_type": "code",
        "colab": {
          "base_uri": "https://localhost:8080/",
          "height": 35
        },
        "outputId": "6f85209a-c6a2-460f-df80-e9c2eb4c50d2"
      },
      "source": [
        "bool(1)"
      ],
      "execution_count": 22,
      "outputs": [
        {
          "output_type": "execute_result",
          "data": {
            "text/plain": [
              "True"
            ]
          },
          "metadata": {
            "tags": []
          },
          "execution_count": 22
        }
      ]
    },
    {
      "cell_type": "code",
      "metadata": {
        "id": "OFNyodGBRhtZ",
        "colab_type": "code",
        "colab": {
          "base_uri": "https://localhost:8080/",
          "height": 35
        },
        "outputId": "999b75e6-effa-420b-9783-8321137727d6"
      },
      "source": [
        "bool(0)\n"
      ],
      "execution_count": 23,
      "outputs": [
        {
          "output_type": "execute_result",
          "data": {
            "text/plain": [
              "False"
            ]
          },
          "metadata": {
            "tags": []
          },
          "execution_count": 23
        }
      ]
    },
    {
      "cell_type": "code",
      "metadata": {
        "id": "QGZtqvqcRhtb",
        "colab_type": "code",
        "colab": {
          "base_uri": "https://localhost:8080/",
          "height": 35
        },
        "outputId": "ecc78cbc-631f-42ba-c749-2a27d288076e"
      },
      "source": [
        "float(True)"
      ],
      "execution_count": 24,
      "outputs": [
        {
          "output_type": "execute_result",
          "data": {
            "text/plain": [
              "1.0"
            ]
          },
          "metadata": {
            "tags": []
          },
          "execution_count": 24
        }
      ]
    },
    {
      "cell_type": "code",
      "metadata": {
        "id": "M71a2osxRhte",
        "colab_type": "code",
        "colab": {
          "base_uri": "https://localhost:8080/",
          "height": 35
        },
        "outputId": "faa8d205-4d3a-4f47-f3d6-6aebc909d7cc"
      },
      "source": [
        "float(False)"
      ],
      "execution_count": 25,
      "outputs": [
        {
          "output_type": "execute_result",
          "data": {
            "text/plain": [
              "0.0"
            ]
          },
          "metadata": {
            "tags": []
          },
          "execution_count": 25
        }
      ]
    },
    {
      "cell_type": "markdown",
      "metadata": {
        "id": "27GFmLX3Rhtg",
        "colab_type": "text"
      },
      "source": [
        "# Mathematical Operations / Expressions"
      ]
    },
    {
      "cell_type": "code",
      "metadata": {
        "id": "urKWHJkiRhth",
        "colab_type": "code",
        "colab": {
          "base_uri": "https://localhost:8080/",
          "height": 35
        },
        "outputId": "5fbd106e-36ec-4d33-a8b4-80fb8a1cae99"
      },
      "source": [
        "7/2   # Regular Division\n"
      ],
      "execution_count": 26,
      "outputs": [
        {
          "output_type": "execute_result",
          "data": {
            "text/plain": [
              "3.5"
            ]
          },
          "metadata": {
            "tags": []
          },
          "execution_count": 26
        }
      ]
    },
    {
      "cell_type": "code",
      "metadata": {
        "id": "NMD6P1AjRhtk",
        "colab_type": "code",
        "colab": {
          "base_uri": "https://localhost:8080/",
          "height": 35
        },
        "outputId": "45f1d038-af5f-4f04-bf9c-a48f4fa40f36"
      },
      "source": [
        "7//2   # Integer division "
      ],
      "execution_count": 27,
      "outputs": [
        {
          "output_type": "execute_result",
          "data": {
            "text/plain": [
              "3"
            ]
          },
          "metadata": {
            "tags": []
          },
          "execution_count": 27
        }
      ]
    },
    {
      "cell_type": "code",
      "metadata": {
        "id": "H6L3TF0pRhtp",
        "colab_type": "code",
        "colab": {
          "base_uri": "https://localhost:8080/",
          "height": 35
        },
        "outputId": "d6305497-1e7d-49c1-e31e-3d271e68e597"
      },
      "source": [
        "4 + 6 + 6 + 1"
      ],
      "execution_count": 28,
      "outputs": [
        {
          "output_type": "execute_result",
          "data": {
            "text/plain": [
              "17"
            ]
          },
          "metadata": {
            "tags": []
          },
          "execution_count": 28
        }
      ]
    },
    {
      "cell_type": "code",
      "metadata": {
        "id": "N2Mp_M5IRhts",
        "colab_type": "code",
        "colab": {
          "base_uri": "https://localhost:8080/",
          "height": 35
        },
        "outputId": "86c8abf2-55e7-4ff4-b9c1-fe438950e80d"
      },
      "source": [
        "x = 4 + 6 + 6 + 1\n",
        "x"
      ],
      "execution_count": 29,
      "outputs": [
        {
          "output_type": "execute_result",
          "data": {
            "text/plain": [
              "17"
            ]
          },
          "metadata": {
            "tags": []
          },
          "execution_count": 29
        }
      ]
    },
    {
      "cell_type": "code",
      "metadata": {
        "id": "iN2yVAB_Rhtv",
        "colab_type": "code",
        "colab": {
          "base_uri": "https://localhost:8080/",
          "height": 35
        },
        "outputId": "fcf717e1-81b8-4d42-f905-a4aaeee90216"
      },
      "source": [
        "x"
      ],
      "execution_count": 30,
      "outputs": [
        {
          "output_type": "execute_result",
          "data": {
            "text/plain": [
              "17"
            ]
          },
          "metadata": {
            "tags": []
          },
          "execution_count": 30
        }
      ]
    },
    {
      "cell_type": "code",
      "metadata": {
        "id": "YwoVHJTCRhtx",
        "colab_type": "code",
        "colab": {
          "base_uri": "https://localhost:8080/",
          "height": 35
        },
        "outputId": "1fa81af3-be15-4236-a8c8-96d4c7990082"
      },
      "source": [
        "total_minutes = 12 + 45 + 8 \n",
        "total_minutes"
      ],
      "execution_count": 31,
      "outputs": [
        {
          "output_type": "execute_result",
          "data": {
            "text/plain": [
              "65"
            ]
          },
          "metadata": {
            "tags": []
          },
          "execution_count": 31
        }
      ]
    },
    {
      "cell_type": "code",
      "metadata": {
        "id": "_5R8TvdkRhtz",
        "colab_type": "code",
        "colab": {
          "base_uri": "https://localhost:8080/",
          "height": 35
        },
        "outputId": "e2dc1435-4aa5-46a2-8239-485323302997"
      },
      "source": [
        "total_hours = total_minutes / 60  \n",
        "total_hours"
      ],
      "execution_count": 32,
      "outputs": [
        {
          "output_type": "execute_result",
          "data": {
            "text/plain": [
              "1.0833333333333333"
            ]
          },
          "metadata": {
            "tags": []
          },
          "execution_count": 32
        }
      ]
    },
    {
      "cell_type": "code",
      "metadata": {
        "id": "2EZAKd4mRht1",
        "colab_type": "code",
        "colab": {
          "base_uri": "https://localhost:8080/",
          "height": 35
        },
        "outputId": "a5a32e51-018c-482e-af61-d00fc772f5e2"
      },
      "source": [
        "5 * 4 "
      ],
      "execution_count": 33,
      "outputs": [
        {
          "output_type": "execute_result",
          "data": {
            "text/plain": [
              "20"
            ]
          },
          "metadata": {
            "tags": []
          },
          "execution_count": 33
        }
      ]
    },
    {
      "cell_type": "code",
      "metadata": {
        "id": "Afr9XBVsRht3",
        "colab_type": "code",
        "colab": {
          "base_uri": "https://localhost:8080/",
          "height": 35
        },
        "outputId": "20923d4b-6537-4dbf-b210-df9540c71d27"
      },
      "source": [
        "y = 5 *4 \n",
        "y"
      ],
      "execution_count": 34,
      "outputs": [
        {
          "output_type": "execute_result",
          "data": {
            "text/plain": [
              "20"
            ]
          },
          "metadata": {
            "tags": []
          },
          "execution_count": 34
        }
      ]
    },
    {
      "cell_type": "code",
      "metadata": {
        "id": "ut2Ld0K2Rht6",
        "colab_type": "code",
        "colab": {
          "base_uri": "https://localhost:8080/",
          "height": 145
        },
        "outputId": "42568e55-6d6c-4bd4-a5c8-74200a664bd3"
      },
      "source": [
        "num1 = 2\n",
        "num2 = 3\n",
        "\n",
        "print(num1 + num2)  \n",
        "print(num1 - num2) \n",
        "print(num1 * num2) \n",
        "print(num1 / num2)\n",
        "print(num1 // num2)\n",
        "print(num1 % num2) \n",
        "print(num1 ** num2)"
      ],
      "execution_count": 35,
      "outputs": [
        {
          "output_type": "stream",
          "text": [
            "5\n",
            "-1\n",
            "6\n",
            "0.6666666666666666\n",
            "0\n",
            "2\n",
            "8\n"
          ],
          "name": "stdout"
        }
      ]
    },
    {
      "cell_type": "code",
      "metadata": {
        "id": "zhNjKtNWRht9",
        "colab_type": "code",
        "colab": {
          "base_uri": "https://localhost:8080/",
          "height": 54
        },
        "outputId": "7927a95a-d566-4595-a168-d712b13bbea4"
      },
      "source": [
        "num1 = 8\n",
        "num1 += 5\n",
        "# num1 = num1 + 5\n",
        "print(num1)\n",
        "num1 -= 1\n",
        "print(num1)"
      ],
      "execution_count": 37,
      "outputs": [
        {
          "output_type": "stream",
          "text": [
            "13\n",
            "12\n"
          ],
          "name": "stdout"
        }
      ]
    },
    {
      "cell_type": "code",
      "metadata": {
        "id": "vG2XqHMJRhuA",
        "colab_type": "code",
        "colab": {
          "base_uri": "https://localhost:8080/",
          "height": 35
        },
        "outputId": "43c68784-bcd1-4f6c-ce8e-821836338a77"
      },
      "source": [
        "print(12 < 34)"
      ],
      "execution_count": 38,
      "outputs": [
        {
          "output_type": "stream",
          "text": [
            "True\n"
          ],
          "name": "stdout"
        }
      ]
    },
    {
      "cell_type": "code",
      "metadata": {
        "id": "bFUN0P39RhuD",
        "colab_type": "code",
        "colab": {
          "base_uri": "https://localhost:8080/",
          "height": 90
        },
        "outputId": "239d98c3-eb1f-4ccb-cad8-03e372f26aff"
      },
      "source": [
        "num1 = 4\n",
        "num2 = 12\n",
        "print(num1 > num2)\n",
        "print(num1 < num2)\n",
        "print(num1 >= num2)\n",
        "print(num1 <= num2)"
      ],
      "execution_count": 39,
      "outputs": [
        {
          "output_type": "stream",
          "text": [
            "False\n",
            "True\n",
            "False\n",
            "True\n"
          ],
          "name": "stdout"
        }
      ]
    },
    {
      "cell_type": "code",
      "metadata": {
        "id": "XRnzjP_oRhuF",
        "colab_type": "code",
        "colab": {
          "base_uri": "https://localhost:8080/",
          "height": 54
        },
        "outputId": "e361833c-3dc3-455e-84b2-3282d07c305e"
      },
      "source": [
        "num1 = 4\n",
        "num2 = 12\n",
        "print(num1 == num2)\n",
        "print(num1 != num2)\n"
      ],
      "execution_count": 40,
      "outputs": [
        {
          "output_type": "stream",
          "text": [
            "False\n",
            "True\n"
          ],
          "name": "stdout"
        }
      ]
    },
    {
      "cell_type": "markdown",
      "metadata": {
        "id": "iyCjUJ6FRhuH",
        "colab_type": "text"
      },
      "source": [
        "# String Operations"
      ]
    },
    {
      "cell_type": "code",
      "metadata": {
        "id": "SMlAxhYvRhuL",
        "colab_type": "code",
        "colab": {
          "base_uri": "https://localhost:8080/",
          "height": 35
        },
        "outputId": "eb1d37f8-88f0-43ea-900a-7e75e1e6d264"
      },
      "source": [
        "text = \"Python is beautiful!\"\n",
        "text"
      ],
      "execution_count": 41,
      "outputs": [
        {
          "output_type": "execute_result",
          "data": {
            "text/plain": [
              "'Python is beautiful!'"
            ]
          },
          "metadata": {
            "tags": []
          },
          "execution_count": 41
        }
      ]
    },
    {
      "cell_type": "code",
      "metadata": {
        "id": "Q3vgm5J5RhuO",
        "colab_type": "code",
        "colab": {
          "base_uri": "https://localhost:8080/",
          "height": 54
        },
        "outputId": "ff32e70a-2ecf-4159-e278-449b9ae0263d"
      },
      "source": [
        "print(text[0])\n",
        "print(text[1])"
      ],
      "execution_count": 42,
      "outputs": [
        {
          "output_type": "stream",
          "text": [
            "P\n",
            "y\n"
          ],
          "name": "stdout"
        }
      ]
    },
    {
      "cell_type": "code",
      "metadata": {
        "id": "NisQ4GEdRhuS",
        "colab_type": "code",
        "colab": {
          "base_uri": "https://localhost:8080/",
          "height": 54
        },
        "outputId": "2661922e-848b-41f3-c1ff-df0ea9de7b6b"
      },
      "source": [
        "print(text[-1])\n",
        "print(text[-2])"
      ],
      "execution_count": 43,
      "outputs": [
        {
          "output_type": "stream",
          "text": [
            "!\n",
            "l\n"
          ],
          "name": "stdout"
        }
      ]
    },
    {
      "cell_type": "code",
      "metadata": {
        "id": "857KdytHRhuU",
        "colab_type": "code",
        "colab": {
          "base_uri": "https://localhost:8080/",
          "height": 35
        },
        "outputId": "f0341971-20f9-404d-baa0-b02632a70239"
      },
      "source": [
        "len(text)"
      ],
      "execution_count": 44,
      "outputs": [
        {
          "output_type": "execute_result",
          "data": {
            "text/plain": [
              "20"
            ]
          },
          "metadata": {
            "tags": []
          },
          "execution_count": 44
        }
      ]
    },
    {
      "cell_type": "code",
      "metadata": {
        "id": "pWEkEYobRhuW",
        "colab_type": "code",
        "colab": {
          "base_uri": "https://localhost:8080/",
          "height": 35
        },
        "outputId": "07c2ff95-bc64-4b07-acb5-11ed4a9e75cf"
      },
      "source": [
        "len(\"Python is beautiful!\")"
      ],
      "execution_count": 45,
      "outputs": [
        {
          "output_type": "execute_result",
          "data": {
            "text/plain": [
              "20"
            ]
          },
          "metadata": {
            "tags": []
          },
          "execution_count": 45
        }
      ]
    },
    {
      "cell_type": "code",
      "metadata": {
        "id": "wFNhIrZDRhua",
        "colab_type": "code",
        "colab": {
          "base_uri": "https://localhost:8080/",
          "height": 35
        },
        "outputId": "e98095c1-d1eb-4a7c-a349-2c8ce7117162"
      },
      "source": [
        "text[0:4]"
      ],
      "execution_count": 46,
      "outputs": [
        {
          "output_type": "execute_result",
          "data": {
            "text/plain": [
              "'Pyth'"
            ]
          },
          "metadata": {
            "tags": []
          },
          "execution_count": 46
        }
      ]
    },
    {
      "cell_type": "code",
      "metadata": {
        "id": "XERkk9ppRhuc",
        "colab_type": "code",
        "colab": {
          "base_uri": "https://localhost:8080/",
          "height": 35
        },
        "outputId": "70f938e4-b832-4ce9-8abc-ef885a8babb4"
      },
      "source": [
        "text[8:12]"
      ],
      "execution_count": 47,
      "outputs": [
        {
          "output_type": "execute_result",
          "data": {
            "text/plain": [
              "'s be'"
            ]
          },
          "metadata": {
            "tags": []
          },
          "execution_count": 47
        }
      ]
    },
    {
      "cell_type": "code",
      "metadata": {
        "id": "q2YF1Te4Rhuh",
        "colab_type": "code",
        "colab": {
          "base_uri": "https://localhost:8080/",
          "height": 35
        },
        "outputId": "6238e500-092b-45be-f26b-f144ab8eaa97"
      },
      "source": [
        "text[2:]"
      ],
      "execution_count": 48,
      "outputs": [
        {
          "output_type": "execute_result",
          "data": {
            "text/plain": [
              "'thon is beautiful!'"
            ]
          },
          "metadata": {
            "tags": []
          },
          "execution_count": 48
        }
      ]
    },
    {
      "cell_type": "code",
      "metadata": {
        "id": "bgiiwGufRhul",
        "colab_type": "code",
        "colab": {
          "base_uri": "https://localhost:8080/",
          "height": 35
        },
        "outputId": "6affc2e7-ce9b-4885-d997-ba4b4bdc5330"
      },
      "source": [
        "text[:10]"
      ],
      "execution_count": 49,
      "outputs": [
        {
          "output_type": "execute_result",
          "data": {
            "text/plain": [
              "'Python is '"
            ]
          },
          "metadata": {
            "tags": []
          },
          "execution_count": 49
        }
      ]
    },
    {
      "cell_type": "code",
      "metadata": {
        "id": "mq1WiiUpRhuq",
        "colab_type": "code",
        "colab": {
          "base_uri": "https://localhost:8080/",
          "height": 35
        },
        "outputId": "5ce9011a-74b7-42d8-d905-da5ba56ec2b1"
      },
      "source": [
        "text[::2]"
      ],
      "execution_count": 50,
      "outputs": [
        {
          "output_type": "execute_result",
          "data": {
            "text/plain": [
              "'Pto sbatfl'"
            ]
          },
          "metadata": {
            "tags": []
          },
          "execution_count": 50
        }
      ]
    },
    {
      "cell_type": "code",
      "metadata": {
        "id": "GBxzTENrRhuu",
        "colab_type": "code",
        "colab": {
          "base_uri": "https://localhost:8080/",
          "height": 35
        },
        "outputId": "6939b2fc-09e7-4d8d-ba47-38866e7a2e46"
      },
      "source": [
        "text[0:5:2]"
      ],
      "execution_count": 51,
      "outputs": [
        {
          "output_type": "execute_result",
          "data": {
            "text/plain": [
              "'Pto'"
            ]
          },
          "metadata": {
            "tags": []
          },
          "execution_count": 51
        }
      ]
    },
    {
      "cell_type": "code",
      "metadata": {
        "id": "XUOJG9P5Rhux",
        "colab_type": "code",
        "colab": {}
      },
      "source": [
        "Name = \"Sachin Tendulkar\""
      ],
      "execution_count": 0,
      "outputs": []
    },
    {
      "cell_type": "code",
      "metadata": {
        "id": "47ITHnsARhuz",
        "colab_type": "code",
        "colab": {
          "base_uri": "https://localhost:8080/",
          "height": 35
        },
        "outputId": "a5f3f864-e558-4800-b749-348b3f838edf"
      },
      "source": [
        "stmt = Name + \" is the best cricketer in the world!\"\n",
        "stmt"
      ],
      "execution_count": 53,
      "outputs": [
        {
          "output_type": "execute_result",
          "data": {
            "text/plain": [
              "'Sachin Tendulkar is the best cricketer in the world!'"
            ]
          },
          "metadata": {
            "tags": []
          },
          "execution_count": 53
        }
      ]
    },
    {
      "cell_type": "code",
      "metadata": {
        "id": "_SGf6WxCRhu2",
        "colab_type": "code",
        "colab": {
          "base_uri": "https://localhost:8080/",
          "height": 35
        },
        "outputId": "ccb0f657-eced-47e4-e705-6345f93fc70a"
      },
      "source": [
        "3*Name"
      ],
      "execution_count": 54,
      "outputs": [
        {
          "output_type": "execute_result",
          "data": {
            "text/plain": [
              "'Sachin TendulkarSachin TendulkarSachin Tendulkar'"
            ]
          },
          "metadata": {
            "tags": []
          },
          "execution_count": 54
        }
      ]
    },
    {
      "cell_type": "code",
      "metadata": {
        "id": "w5Dx7HsWRhu4",
        "colab_type": "code",
        "colab": {
          "base_uri": "https://localhost:8080/",
          "height": 54
        },
        "outputId": "1a6e33c6-b642-4a6c-b224-cc8b58e356a1"
      },
      "source": [
        "print(\" Sachin Tendulkar \\n is the best cricketer in the world!\" )"
      ],
      "execution_count": 55,
      "outputs": [
        {
          "output_type": "stream",
          "text": [
            " Sachin Tendulkar \n",
            " is the best cricketer in the world!\n"
          ],
          "name": "stdout"
        }
      ]
    },
    {
      "cell_type": "code",
      "metadata": {
        "id": "SEVw6YrBRhu6",
        "colab_type": "code",
        "colab": {
          "base_uri": "https://localhost:8080/",
          "height": 72
        },
        "outputId": "23e426b0-6682-4ee3-bf4b-8c4fa8a0e40d"
      },
      "source": [
        "stmt = \"Chennai Super Kings are going to win IPL this time.\"\n",
        "print(\"Original stmt : \",stmt)\n",
        "\n",
        "mod_stmt = stmt.upper()\n",
        "print(\"Modified stmt : \",mod_stmt)\n",
        "\n",
        "mod_stmt = stmt.lower()\n",
        "print(\"Modified stmt again : \",mod_stmt)"
      ],
      "execution_count": 56,
      "outputs": [
        {
          "output_type": "stream",
          "text": [
            "Original stmt :  Chennai Super Kings are going to win IPL this time.\n",
            "Modified stmt :  CHENNAI SUPER KINGS ARE GOING TO WIN IPL THIS TIME.\n",
            "Modified stmt again :  chennai super kings are going to win ipl this time.\n"
          ],
          "name": "stdout"
        }
      ]
    },
    {
      "cell_type": "code",
      "metadata": {
        "id": "KPRrtg87Rhu9",
        "colab_type": "code",
        "colab": {
          "base_uri": "https://localhost:8080/",
          "height": 35
        },
        "outputId": "144ea909-72a7-4fdc-8f55-eeceb059a4bf"
      },
      "source": [
        "stmt = \"Chennai Super Kings are going to win IPL this time.\"\n",
        "mod_stmt = stmt.replace('Chennai Super Kings', 'Royal Challengers')\n",
        "mod_stmt"
      ],
      "execution_count": 57,
      "outputs": [
        {
          "output_type": "execute_result",
          "data": {
            "text/plain": [
              "'Royal Challengers are going to win IPL this time.'"
            ]
          },
          "metadata": {
            "tags": []
          },
          "execution_count": 57
        }
      ]
    },
    {
      "cell_type": "code",
      "metadata": {
        "id": "zILUPY-NRhu-",
        "colab_type": "code",
        "colab": {
          "base_uri": "https://localhost:8080/",
          "height": 54
        },
        "outputId": "65087c15-ebfa-4fb2-8774-68709b26ae66"
      },
      "source": [
        "stmt = \"Chennai Super Kings are going to win IPL this time.    \"\n",
        "print(stmt)\n",
        "print(stmt.rstrip())"
      ],
      "execution_count": 58,
      "outputs": [
        {
          "output_type": "stream",
          "text": [
            "Chennai Super Kings are going to win IPL this time.    \n",
            "Chennai Super Kings are going to win IPL this time.\n"
          ],
          "name": "stdout"
        }
      ]
    },
    {
      "cell_type": "code",
      "metadata": {
        "id": "y5h7MWdFRhvD",
        "colab_type": "code",
        "colab": {
          "base_uri": "https://localhost:8080/",
          "height": 54
        },
        "outputId": "6e85a1dd-78a6-4d56-980f-a02b2cafe7e3"
      },
      "source": [
        "stmt = \"Chennai Super Kings are going to win IPL this time.%%%\"\n",
        "print(stmt)\n",
        "print(stmt.rstrip(\"%\"))"
      ],
      "execution_count": 59,
      "outputs": [
        {
          "output_type": "stream",
          "text": [
            "Chennai Super Kings are going to win IPL this time.%%%\n",
            "Chennai Super Kings are going to win IPL this time.\n"
          ],
          "name": "stdout"
        }
      ]
    },
    {
      "cell_type": "code",
      "metadata": {
        "id": "JnUMgHWxRhvF",
        "colab_type": "code",
        "colab": {
          "base_uri": "https://localhost:8080/",
          "height": 54
        },
        "outputId": "31606846-3897-46f1-fc25-c932dc4702d5"
      },
      "source": [
        "stmt = \"    Chennai Super Kings are going to win IPL this time.\"\n",
        "print(stmt)\n",
        "print(stmt.lstrip())"
      ],
      "execution_count": 60,
      "outputs": [
        {
          "output_type": "stream",
          "text": [
            "    Chennai Super Kings are going to win IPL this time.\n",
            "Chennai Super Kings are going to win IPL this time.\n"
          ],
          "name": "stdout"
        }
      ]
    },
    {
      "cell_type": "code",
      "metadata": {
        "id": "9JU7hFqoRhvH",
        "colab_type": "code",
        "colab": {
          "base_uri": "https://localhost:8080/",
          "height": 54
        },
        "outputId": "fed34581-9841-4691-b30c-cd93fdab913f"
      },
      "source": [
        "stmt = \"$$$$Chennai Super Kings are going to win IPL this time.\"\n",
        "print(stmt)\n",
        "print(stmt.lstrip(\"$\"))"
      ],
      "execution_count": 61,
      "outputs": [
        {
          "output_type": "stream",
          "text": [
            "$$$$Chennai Super Kings are going to win IPL this time.\n",
            "Chennai Super Kings are going to win IPL this time.\n"
          ],
          "name": "stdout"
        }
      ]
    },
    {
      "cell_type": "markdown",
      "metadata": {
        "id": "ML72Y7MARhvJ",
        "colab_type": "raw"
      },
      "source": [
        "stmt = \"    Chennai Super Kings are going to win IPL this time.   \"\n",
        "print(stmt)\n",
        "print(stmt.strip())"
      ]
    },
    {
      "cell_type": "code",
      "metadata": {
        "id": "Ph04ZPuWRhvK",
        "colab_type": "code",
        "colab": {
          "base_uri": "https://localhost:8080/",
          "height": 54
        },
        "outputId": "cf65ef0c-3280-402a-f213-ce145f95da50"
      },
      "source": [
        "stmt = \"&&&&Chennai Super Kings are going to win IPL this time.&&&&\"\n",
        "print(stmt)\n",
        "print(stmt.strip('&'))"
      ],
      "execution_count": 62,
      "outputs": [
        {
          "output_type": "stream",
          "text": [
            "&&&&Chennai Super Kings are going to win IPL this time.&&&&\n",
            "Chennai Super Kings are going to win IPL this time.\n"
          ],
          "name": "stdout"
        }
      ]
    },
    {
      "cell_type": "code",
      "metadata": {
        "id": "XDim4ujGRhvM",
        "colab_type": "code",
        "colab": {
          "base_uri": "https://localhost:8080/",
          "height": 35
        },
        "outputId": "061420a4-d184-4ce8-defd-f3f0aa13d634"
      },
      "source": [
        "stmt = \"Chennai Super Kings are going to win IPL this time.\"\n",
        "stmt.find('Kings')"
      ],
      "execution_count": 63,
      "outputs": [
        {
          "output_type": "execute_result",
          "data": {
            "text/plain": [
              "14"
            ]
          },
          "metadata": {
            "tags": []
          },
          "execution_count": 63
        }
      ]
    },
    {
      "cell_type": "code",
      "metadata": {
        "id": "uP9H4GsvRhvQ",
        "colab_type": "code",
        "colab": {
          "base_uri": "https://localhost:8080/",
          "height": 35
        },
        "outputId": "718ff004-1179-45d1-c296-605426741b1e"
      },
      "source": [
        "stmt.find('anything')"
      ],
      "execution_count": 64,
      "outputs": [
        {
          "output_type": "execute_result",
          "data": {
            "text/plain": [
              "-1"
            ]
          },
          "metadata": {
            "tags": []
          },
          "execution_count": 64
        }
      ]
    },
    {
      "cell_type": "code",
      "metadata": {
        "id": "czwN4rNCRhvT",
        "colab_type": "code",
        "colab": {
          "base_uri": "https://localhost:8080/",
          "height": 108
        },
        "outputId": "d8f48f8d-109e-4c43-f9cf-f4aea8ed96e0"
      },
      "source": [
        "score = 30\n",
        "my_score = (\"My score \"+ str(score) + \".\")\n",
        "print(my_score)\n",
        "\n",
        "your_score = input(\"What is your score\")\n",
        "print(\"Your score is \", your_score)\n",
        "\n",
        "print(\"Our scores are\", my_score, your_score) \n",
        "stmt =\"Our scores are {0}, {1}\".format(my_score, your_score) \n",
        "print(stmt)\n"
      ],
      "execution_count": 65,
      "outputs": [
        {
          "output_type": "stream",
          "text": [
            "My score 30.\n",
            "What is your score6\n",
            "Your score is  6\n",
            "Our scores are My score 30. 6\n",
            "Our scores are My score 30., 6\n"
          ],
          "name": "stdout"
        }
      ]
    },
    {
      "cell_type": "code",
      "metadata": {
        "id": "R8nwa-mbRhvZ",
        "colab_type": "code",
        "colab": {
          "base_uri": "https://localhost:8080/",
          "height": 90
        },
        "outputId": "0bca19d1-1611-42fe-bdc7-a4542484a456"
      },
      "source": [
        "first_name = input(\"Enter your first name\")\n",
        "last_name = input(\"Enter your last name\")\n",
        "age = input(\"Enter your age\")\n",
        "stmt = \"You are \" + first_name + \" \" + last_name + \".\" + \" You are \" + str(age) + \"old.\"\n",
        "print(stmt)"
      ],
      "execution_count": 66,
      "outputs": [
        {
          "output_type": "stream",
          "text": [
            "Enter your first nameapple\n",
            "Enter your last nameorange\n",
            "Enter your age45\n",
            "You are apple orange. You are 45old.\n"
          ],
          "name": "stdout"
        }
      ]
    },
    {
      "cell_type": "code",
      "metadata": {
        "id": "bW0R8tVPRhvc",
        "colab_type": "code",
        "colab": {}
      },
      "source": [
        ""
      ],
      "execution_count": 0,
      "outputs": []
    }
  ]
}