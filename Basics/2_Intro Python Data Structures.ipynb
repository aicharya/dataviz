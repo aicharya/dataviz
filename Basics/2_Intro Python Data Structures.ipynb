{
 "cells": [
  {
   "cell_type": "markdown",
   "metadata": {},
   "source": [
    "# Notebook 2 - Python Data Structures"
   ]
  },
  {
   "cell_type": "markdown",
   "metadata": {},
   "source": [
    "# Tuples "
   ]
  },
  {
   "cell_type": "code",
   "execution_count": 1,
   "metadata": {},
   "outputs": [
    {
     "data": {
      "text/plain": [
       "('Python', 1, True, False, 2.2)"
      ]
     },
     "execution_count": 1,
     "metadata": {},
     "output_type": "execute_result"
    }
   ],
   "source": [
    "my_tuple =(\"Python\",1, True, False, 2.2 )\n",
    "my_tuple"
   ]
  },
  {
   "cell_type": "code",
   "execution_count": 2,
   "metadata": {},
   "outputs": [
    {
     "data": {
      "text/plain": [
       "tuple"
      ]
     },
     "execution_count": 2,
     "metadata": {},
     "output_type": "execute_result"
    }
   ],
   "source": [
    "type(my_tuple)"
   ]
  },
  {
   "cell_type": "code",
   "execution_count": 3,
   "metadata": {},
   "outputs": [
    {
     "data": {
      "text/plain": [
       "5"
      ]
     },
     "execution_count": 3,
     "metadata": {},
     "output_type": "execute_result"
    }
   ],
   "source": [
    "len(my_tuple)"
   ]
  },
  {
   "cell_type": "code",
   "execution_count": 4,
   "metadata": {},
   "outputs": [
    {
     "name": "stdout",
     "output_type": "stream",
     "text": [
      "Python\n",
      "1\n",
      "True\n"
     ]
    }
   ],
   "source": [
    "print( my_tuple[0])\n",
    "print( my_tuple[1])\n",
    "print( my_tuple[2])"
   ]
  },
  {
   "cell_type": "code",
   "execution_count": 5,
   "metadata": {},
   "outputs": [
    {
     "name": "stdout",
     "output_type": "stream",
     "text": [
      "<class 'str'>\n",
      "<class 'int'>\n",
      "<class 'bool'>\n"
     ]
    }
   ],
   "source": [
    "print( type(my_tuple[0]))\n",
    "print( type(my_tuple[1]))\n",
    "print( type(my_tuple[2]))"
   ]
  },
  {
   "cell_type": "code",
   "execution_count": 6,
   "metadata": {},
   "outputs": [
    {
     "name": "stdout",
     "output_type": "stream",
     "text": [
      "2.2\n",
      "False\n",
      "True\n"
     ]
    }
   ],
   "source": [
    "print( my_tuple[-1])\n",
    "print( my_tuple[-2])\n",
    "print( my_tuple[-3])"
   ]
  },
  {
   "cell_type": "code",
   "execution_count": 7,
   "metadata": {},
   "outputs": [
    {
     "ename": "TypeError",
     "evalue": "'tuple' object does not support item assignment",
     "output_type": "error",
     "traceback": [
      "\u001b[1;31m---------------------------------------------------------------------------\u001b[0m",
      "\u001b[1;31mTypeError\u001b[0m                                 Traceback (most recent call last)",
      "\u001b[1;32m<ipython-input-7-deb6bcef2af4>\u001b[0m in \u001b[0;36m<module>\u001b[1;34m()\u001b[0m\n\u001b[1;32m----> 1\u001b[1;33m \u001b[0mmy_tuple\u001b[0m\u001b[1;33m[\u001b[0m\u001b[1;36m2\u001b[0m\u001b[1;33m]\u001b[0m \u001b[1;33m=\u001b[0m \u001b[1;36m4\u001b[0m   \u001b[1;31m#Cant alter the tuple\u001b[0m\u001b[1;33m\u001b[0m\u001b[0m\n\u001b[0m",
      "\u001b[1;31mTypeError\u001b[0m: 'tuple' object does not support item assignment"
     ]
    }
   ],
   "source": [
    "my_tuple[2] = 4   #Cant alter the tuple"
   ]
  },
  {
   "cell_type": "code",
   "execution_count": 8,
   "metadata": {},
   "outputs": [
    {
     "ename": "AttributeError",
     "evalue": "'tuple' object has no attribute 'append'",
     "output_type": "error",
     "traceback": [
      "\u001b[1;31m---------------------------------------------------------------------------\u001b[0m",
      "\u001b[1;31mAttributeError\u001b[0m                            Traceback (most recent call last)",
      "\u001b[1;32m<ipython-input-8-e3df207ac7a5>\u001b[0m in \u001b[0;36m<module>\u001b[1;34m()\u001b[0m\n\u001b[1;32m----> 1\u001b[1;33m \u001b[0mmy_tuple\u001b[0m\u001b[1;33m.\u001b[0m\u001b[0mappend\u001b[0m\u001b[1;33m(\u001b[0m\u001b[1;36m25\u001b[0m\u001b[1;33m)\u001b[0m \u001b[1;31m#Cant append the tuple\u001b[0m\u001b[1;33m\u001b[0m\u001b[0m\n\u001b[0m",
      "\u001b[1;31mAttributeError\u001b[0m: 'tuple' object has no attribute 'append'"
     ]
    }
   ],
   "source": [
    "my_tuple.append(25) #Cant append the tuple"
   ]
  },
  {
   "cell_type": "code",
   "execution_count": 9,
   "metadata": {},
   "outputs": [
    {
     "data": {
      "text/plain": [
       "('Python', 1, True, False, 2.2, 'Anaconda', 120)"
      ]
     },
     "execution_count": 9,
     "metadata": {},
     "output_type": "execute_result"
    }
   ],
   "source": [
    "my_tuple2 = my_tuple + (\"Anaconda\", 120)\n",
    "my_tuple2"
   ]
  },
  {
   "cell_type": "code",
   "execution_count": 10,
   "metadata": {},
   "outputs": [
    {
     "data": {
      "text/plain": [
       "('Python', 1)"
      ]
     },
     "execution_count": 10,
     "metadata": {},
     "output_type": "execute_result"
    }
   ],
   "source": [
    "my_tuple2[0:2]"
   ]
  },
  {
   "cell_type": "code",
   "execution_count": 12,
   "metadata": {},
   "outputs": [
    {
     "data": {
      "text/plain": [
       "('Anaconda', 120)"
      ]
     },
     "execution_count": 12,
     "metadata": {},
     "output_type": "execute_result"
    }
   ],
   "source": [
    "my_tuple2[5:]"
   ]
  },
  {
   "cell_type": "code",
   "execution_count": 13,
   "metadata": {},
   "outputs": [
    {
     "data": {
      "text/plain": [
       "('Python', 1, True)"
      ]
     },
     "execution_count": 13,
     "metadata": {},
     "output_type": "execute_result"
    }
   ],
   "source": [
    "my_tuple2[:3]"
   ]
  },
  {
   "cell_type": "code",
   "execution_count": 14,
   "metadata": {},
   "outputs": [
    {
     "data": {
      "text/plain": [
       "(10, 8, 3, 2, 4, 0, 0, 3)"
      ]
     },
     "execution_count": 14,
     "metadata": {},
     "output_type": "execute_result"
    }
   ],
   "source": [
    "Scores = (10, 8 , 3, 2 , 4, 0 , 0, 3)\n",
    "Scores"
   ]
  },
  {
   "cell_type": "code",
   "execution_count": 15,
   "metadata": {},
   "outputs": [
    {
     "data": {
      "text/plain": [
       "[0, 0, 2, 3, 3, 4, 8, 10]"
      ]
     },
     "execution_count": 15,
     "metadata": {},
     "output_type": "execute_result"
    }
   ],
   "source": [
    "sorted_Scores = sorted(Scores)\n",
    "sorted_Scores"
   ]
  },
  {
   "cell_type": "code",
   "execution_count": 16,
   "metadata": {
    "collapsed": true
   },
   "outputs": [],
   "source": [
    "del(Scores)"
   ]
  },
  {
   "cell_type": "code",
   "execution_count": 17,
   "metadata": {},
   "outputs": [
    {
     "ename": "NameError",
     "evalue": "name 'Scores' is not defined",
     "output_type": "error",
     "traceback": [
      "\u001b[1;31m---------------------------------------------------------------------------\u001b[0m",
      "\u001b[1;31mNameError\u001b[0m                                 Traceback (most recent call last)",
      "\u001b[1;32m<ipython-input-17-1f7b897c34b6>\u001b[0m in \u001b[0;36m<module>\u001b[1;34m()\u001b[0m\n\u001b[1;32m----> 1\u001b[1;33m \u001b[0mScores\u001b[0m   \u001b[1;31m# error as its no more available\u001b[0m\u001b[1;33m\u001b[0m\u001b[0m\n\u001b[0m",
      "\u001b[1;31mNameError\u001b[0m: name 'Scores' is not defined"
     ]
    }
   ],
   "source": [
    "Scores   # error as its no more available"
   ]
  },
  {
   "cell_type": "markdown",
   "metadata": {
    "collapsed": true
   },
   "source": [
    "# Lists"
   ]
  },
  {
   "cell_type": "code",
   "execution_count": 19,
   "metadata": {},
   "outputs": [
    {
     "data": {
      "text/plain": [
       "list"
      ]
     },
     "execution_count": 19,
     "metadata": {},
     "output_type": "execute_result"
    }
   ],
   "source": [
    "my_list = [\"Virat\", 9.34, 1982, True]\n",
    "type(my_list)"
   ]
  },
  {
   "cell_type": "code",
   "execution_count": 20,
   "metadata": {},
   "outputs": [
    {
     "name": "stdout",
     "output_type": "stream",
     "text": [
      "Virat      Virat\n",
      "9.34      9.34\n",
      "1982      1982\n",
      "True      True\n"
     ]
    }
   ],
   "source": [
    "print(my_list[0] , \"    \" , my_list[-4])\n",
    "print(my_list[1] , \"    \" , my_list[-3])\n",
    "print(my_list[2] , \"    \" , my_list[-2])\n",
    "print(my_list[3] , \"    \" , my_list[-1])"
   ]
  },
  {
   "cell_type": "code",
   "execution_count": 21,
   "metadata": {},
   "outputs": [
    {
     "data": {
      "text/plain": [
       "['Virat',\n",
       " 9.34,\n",
       " 1982,\n",
       " True,\n",
       " 23,\n",
       " (1, 3, 9),\n",
       " ['Sachin', 982, True],\n",
       " [34, 23],\n",
       " ('a', 'v')]"
      ]
     },
     "execution_count": 21,
     "metadata": {},
     "output_type": "execute_result"
    }
   ],
   "source": [
    "num1 = 23 \n",
    "tuple1 = (1, 3, 9)\n",
    "list1 = [\"Sachin\", 982, True]\n",
    "\n",
    "mixed_list = [\"Virat\", 9.34, 1982, True, num1, tuple1, list1, [ 34, 23], ('a', 'v')]\n",
    "mixed_list"
   ]
  },
  {
   "cell_type": "code",
   "execution_count": 22,
   "metadata": {},
   "outputs": [
    {
     "data": {
      "text/plain": [
       "['Virat', 9.34, 1982, True]"
      ]
     },
     "execution_count": 22,
     "metadata": {},
     "output_type": "execute_result"
    }
   ],
   "source": [
    "my_list = [\"Virat\", 9.34, 1982, True]\n",
    "my_list"
   ]
  },
  {
   "cell_type": "code",
   "execution_count": 23,
   "metadata": {},
   "outputs": [
    {
     "data": {
      "text/plain": [
       "['Virat', 9.34, 1982, True]"
      ]
     },
     "execution_count": 23,
     "metadata": {},
     "output_type": "execute_result"
    }
   ],
   "source": [
    "my_list[:]"
   ]
  },
  {
   "cell_type": "code",
   "execution_count": 24,
   "metadata": {},
   "outputs": [
    {
     "data": {
      "text/plain": [
       "[9.34, 1982, True]"
      ]
     },
     "execution_count": 24,
     "metadata": {},
     "output_type": "execute_result"
    }
   ],
   "source": [
    "my_list[1:]"
   ]
  },
  {
   "cell_type": "code",
   "execution_count": 25,
   "metadata": {},
   "outputs": [
    {
     "data": {
      "text/plain": [
       "['Virat', 9.34]"
      ]
     },
     "execution_count": 25,
     "metadata": {},
     "output_type": "execute_result"
    }
   ],
   "source": [
    "my_list[:2]"
   ]
  },
  {
   "cell_type": "code",
   "execution_count": 26,
   "metadata": {},
   "outputs": [
    {
     "data": {
      "text/plain": [
       "['Virat', 9.34, 1982]"
      ]
     },
     "execution_count": 26,
     "metadata": {},
     "output_type": "execute_result"
    }
   ],
   "source": [
    "my_list[:-1]"
   ]
  },
  {
   "cell_type": "code",
   "execution_count": 27,
   "metadata": {},
   "outputs": [
    {
     "data": {
      "text/plain": [
       "['Virat', 9.34, 1982, True, 'new_item', 100]"
      ]
     },
     "execution_count": 27,
     "metadata": {},
     "output_type": "execute_result"
    }
   ],
   "source": [
    "my_list = [\"Virat\", 9.34, 1982, True]\n",
    "\n",
    "my_list.extend(['new_item',100])\n",
    "my_list\n"
   ]
  },
  {
   "cell_type": "code",
   "execution_count": 28,
   "metadata": {},
   "outputs": [
    {
     "data": {
      "text/plain": [
       "['Virat', 9.34, 1982, True, ['new_item', 100]]"
      ]
     },
     "execution_count": 28,
     "metadata": {},
     "output_type": "execute_result"
    }
   ],
   "source": [
    "my_list = [\"Virat\", 9.34, 1982, True]\n",
    "\n",
    "my_list.append(['new_item',100])\n",
    "my_list\n",
    "\n"
   ]
  },
  {
   "cell_type": "code",
   "execution_count": 29,
   "metadata": {},
   "outputs": [
    {
     "data": {
      "text/plain": [
       "[9.34, 1982, True]"
      ]
     },
     "execution_count": 29,
     "metadata": {},
     "output_type": "execute_result"
    }
   ],
   "source": [
    "my_list = [\"Virat\", 9.34, 1982, True]\n",
    "\n",
    "my_list.remove(\"Virat\")\n",
    "my_list"
   ]
  },
  {
   "cell_type": "code",
   "execution_count": 30,
   "metadata": {},
   "outputs": [
    {
     "name": "stdout",
     "output_type": "stream",
     "text": [
      "Before :  ['Virat', 9.34, 1982, True]\n",
      "After :  ['Virat', 34.3, 1982, True]\n"
     ]
    }
   ],
   "source": [
    "my_list = [\"Virat\", 9.34, 1982, True]\n",
    "print(\"Before : \" , my_list)\n",
    "\n",
    "my_list[1] = 34.3\n",
    "print(\"After : \" , my_list)"
   ]
  },
  {
   "cell_type": "code",
   "execution_count": 31,
   "metadata": {},
   "outputs": [
    {
     "name": "stdout",
     "output_type": "stream",
     "text": [
      "Before :  ['Virat', 9.34, 1982, True]\n",
      "After :  ['Virat', 9.34, True]\n"
     ]
    }
   ],
   "source": [
    "my_list = [\"Virat\", 9.34, 1982, True]\n",
    "print(\"Before : \" , my_list)\n",
    "\n",
    "del(my_list[2])\n",
    "print(\"After : \" , my_list)"
   ]
  },
  {
   "cell_type": "code",
   "execution_count": 32,
   "metadata": {},
   "outputs": [
    {
     "data": {
      "text/plain": [
       "['This', 'string', 'needs', 'to', 'be', 'splitted']"
      ]
     },
     "execution_count": 32,
     "metadata": {},
     "output_type": "execute_result"
    }
   ],
   "source": [
    "'This string needs to be splitted'.split()"
   ]
  },
  {
   "cell_type": "code",
   "execution_count": 33,
   "metadata": {},
   "outputs": [
    {
     "name": "stdout",
     "output_type": "stream",
     "text": [
      "['This', 'string', 'needs', 'to', 'be', 'splitted']\n",
      "This\n",
      "string\n",
      "needs\n",
      "to\n",
      "be\n",
      "splitted\n",
      "<class 'list'>\n",
      "6\n"
     ]
    }
   ],
   "source": [
    "splitted_str = 'This string needs to be splitted'.split()\n",
    "print(splitted_str)\n",
    "\n",
    "print(splitted_str[0])\n",
    "print(splitted_str[1])\n",
    "print(splitted_str[2])\n",
    "print(splitted_str[3])\n",
    "print(splitted_str[4])\n",
    "print(splitted_str[5])\n",
    "\n",
    "print(type(splitted_str))\n",
    "\n",
    "print(len(splitted_str))"
   ]
  },
  {
   "cell_type": "code",
   "execution_count": 34,
   "metadata": {},
   "outputs": [
    {
     "name": "stdout",
     "output_type": "stream",
     "text": [
      "['This string', ' needs to be splitted']\n",
      "This string\n",
      " needs to be splitted\n",
      "<class 'list'>\n",
      "2\n"
     ]
    }
   ],
   "source": [
    "splitted_str = 'This string, needs to be splitted'.split(',')\n",
    "print(splitted_str)\n",
    "\n",
    "print(splitted_str[0])\n",
    "print(splitted_str[1])\n",
    "\n",
    "print(type(splitted_str))\n",
    "\n",
    "print(len(splitted_str))"
   ]
  },
  {
   "cell_type": "code",
   "execution_count": 35,
   "metadata": {},
   "outputs": [
    {
     "name": "stdout",
     "output_type": "stream",
     "text": [
      "list1---> [1, 3, 5, 7, 9]\n",
      "list2---> [1, 3, 5, 7, 9]\n"
     ]
    }
   ],
   "source": [
    "list1 = [ 1, 3, 5, 7, 9]\n",
    "list2 = list1\n",
    "\n",
    "print(\"list1--->\", list1)\n",
    "print(\"list2--->\", list2)"
   ]
  },
  {
   "cell_type": "code",
   "execution_count": 36,
   "metadata": {},
   "outputs": [
    {
     "name": "stdout",
     "output_type": "stream",
     "text": [
      "Before change list1---> [1, 3, 5, 7, 9]\n",
      "Before change list2---> [1, 3, 5, 7, 9]\n",
      "After change list1---> [0, 3, 5, 7, 9]\n",
      "After change list2---> [0, 3, 5, 7, 9]\n",
      "After change list1---> [100, 3, 5, 7, 9]\n",
      "After change list2---> [100, 3, 5, 7, 9]\n"
     ]
    }
   ],
   "source": [
    "list1 = [ 1, 3, 5, 7, 9]\n",
    "list2 = list1\n",
    "\n",
    "print(\"Before change list1--->\", list1)\n",
    "print(\"Before change list2--->\", list2)\n",
    "\n",
    "list1[0] = 0\n",
    "print(\"After change list1--->\", list1)\n",
    "print(\"After change list2--->\", list2)\n",
    "\n",
    "list2[0] = 100\n",
    "print(\"After change list1--->\", list1)\n",
    "print(\"After change list2--->\", list2)\n",
    "\n"
   ]
  },
  {
   "cell_type": "code",
   "execution_count": 37,
   "metadata": {},
   "outputs": [
    {
     "name": "stdout",
     "output_type": "stream",
     "text": [
      "list3---- [0, 2, 4, 6, 8]\n",
      "list4---- [0, 2, 4, 6, 8]\n"
     ]
    }
   ],
   "source": [
    "list3 = [0, 2, 4, 6, 8]\n",
    "list4 = list3[:]\n",
    "\n",
    "print(\"list3----\", list3)\n",
    "print(\"list4----\", list4)"
   ]
  },
  {
   "cell_type": "code",
   "execution_count": 38,
   "metadata": {},
   "outputs": [
    {
     "name": "stdout",
     "output_type": "stream",
     "text": [
      "Before change list3---- [0, 2, 4, 6, 8]\n",
      "Before change list4---- [0, 2, 4, 6, 8]\n",
      "After change list3---- [100, 2, 4, 6, 8]\n",
      "After change list4---- [0, 2, 4, 6, 8]\n",
      "After change list3---- [100, 2, 4, 6, 8]\n",
      "After change list4---- [99, 2, 4, 6, 8]\n"
     ]
    }
   ],
   "source": [
    "list3 = [0, 2, 4, 6, 8]\n",
    "list4 = list3[:]\n",
    "\n",
    "print(\"Before change list3----\", list3)\n",
    "print(\"Before change list4----\", list4)\n",
    "\n",
    "list3[0] = 100\n",
    "print(\"After change list3----\", list3)\n",
    "print(\"After change list4----\", list4)\n",
    "\n",
    "list4[0] = 99\n",
    "print(\"After change list3----\", list3)\n",
    "print(\"After change list4----\", list4)"
   ]
  },
  {
   "cell_type": "code",
   "execution_count": 39,
   "metadata": {},
   "outputs": [
    {
     "name": "stdout",
     "output_type": "stream",
     "text": [
      "[1, 3, 5, 7, -1, 2]\n",
      "[-1, 1, 2, 3, 5, 7]\n"
     ]
    }
   ],
   "source": [
    "list5 = [1, 3, 5, 7 , -1 , 2]\n",
    "print(list5)\n",
    "\n",
    "list5.sort()\n",
    "print(list5)"
   ]
  },
  {
   "cell_type": "code",
   "execution_count": 40,
   "metadata": {},
   "outputs": [
    {
     "name": "stdout",
     "output_type": "stream",
     "text": [
      "[1, 99, 40]\n",
      "[99, 40, 1]\n",
      "[1, 40, 99]\n",
      "[1, 40, 99]\n"
     ]
    }
   ],
   "source": [
    "list5 = [1, 99, 40]\n",
    "print(list5)\n",
    "\n",
    "list5.sort(reverse=True)\n",
    "print(list5)\n",
    "\n",
    "list5 = [1, 99, 40]\n",
    "list5.sort(reverse=False)\n",
    "print(list5)\n",
    "\n",
    "list5 = [1, 99, 40]\n",
    "list5.sort()\n",
    "print(list5)\n"
   ]
  },
  {
   "cell_type": "code",
   "execution_count": 41,
   "metadata": {},
   "outputs": [
    {
     "name": "stdout",
     "output_type": "stream",
     "text": [
      "[1, 2, 3, 4, 5, 6, 7, 8, 9]\n"
     ]
    }
   ],
   "source": [
    "list6 = list(range(1, 10, 1))\n",
    "print(list6)"
   ]
  },
  {
   "cell_type": "code",
   "execution_count": 42,
   "metadata": {},
   "outputs": [
    {
     "name": "stdout",
     "output_type": "stream",
     "text": [
      "[1, 3, 5, 7, -1, 2]\n",
      "[2, -1, 7, 5, 3, 1]\n"
     ]
    }
   ],
   "source": [
    "list7 = [1, 3, 5, 7 , -1 , 2]\n",
    "print(list7)\n",
    "\n",
    "list7.reverse()\n",
    "print(list7)"
   ]
  },
  {
   "cell_type": "code",
   "execution_count": 44,
   "metadata": {},
   "outputs": [
    {
     "name": "stdout",
     "output_type": "stream",
     "text": [
      "(1, 3, 5, 7, -1, 2)\n",
      "(1, 3)\n",
      "<class 'tuple'>\n",
      "[1, 3]\n",
      "<class 'list'>\n",
      "(1, 3)\n",
      "<class 'tuple'>\n"
     ]
    }
   ],
   "source": [
    "my_tuple = (1, 3, 5, 7 , -1 , 2)\n",
    "print(my_tuple)\n",
    "\n",
    "few_elements = my_tuple[:2]\n",
    "print(few_elements)\n",
    "print(type(few_elements))\n",
    "\n",
    "list_from_tupple = list(few_elements)\n",
    "print(list_from_tupple)\n",
    "print(type(list_from_tupple))\n",
    "\n",
    "tuple_from_list = tuple(list_from_tupple)\n",
    "print(tuple_from_list)\n",
    "print(type(tuple_from_list))"
   ]
  },
  {
   "cell_type": "markdown",
   "metadata": {
    "collapsed": true
   },
   "source": [
    "# Dictionaries"
   ]
  },
  {
   "cell_type": "code",
   "execution_count": 45,
   "metadata": {},
   "outputs": [
    {
     "name": "stdout",
     "output_type": "stream",
     "text": [
      "{'name': 'pravin', 'age': 22, 'marks': [30, 23, 13], 'assign_grades': ('A', 'B', 'A')}\n",
      "<class 'dict'>\n"
     ]
    }
   ],
   "source": [
    "my_dict = {\"name\":\"pravin\", \"age\":22, \"marks\":[30, 23, 13], \"assign_grades\":('A','B','A')}\n",
    "print(my_dict)\n",
    "print(type(my_dict))"
   ]
  },
  {
   "cell_type": "code",
   "execution_count": 46,
   "metadata": {},
   "outputs": [
    {
     "name": "stdout",
     "output_type": "stream",
     "text": [
      "pravin\n",
      "22\n",
      "[30, 23, 13]\n",
      "('A', 'B', 'A')\n"
     ]
    }
   ],
   "source": [
    "print(my_dict[\"name\"])\n",
    "print(my_dict[\"age\"])\n",
    "print(my_dict[\"marks\"])\n",
    "print(my_dict[\"assign_grades\"])"
   ]
  },
  {
   "cell_type": "code",
   "execution_count": null,
   "metadata": {
    "collapsed": true
   },
   "outputs": [],
   "source": [
    "my_name = my_dict[\"name\"]\n",
    "my_name"
   ]
  },
  {
   "cell_type": "code",
   "execution_count": 47,
   "metadata": {},
   "outputs": [
    {
     "data": {
      "text/plain": [
       "22"
      ]
     },
     "execution_count": 47,
     "metadata": {},
     "output_type": "execute_result"
    }
   ],
   "source": [
    "my_age = my_dict.get(\"age\")\n",
    "my_age"
   ]
  },
  {
   "cell_type": "code",
   "execution_count": 48,
   "metadata": {},
   "outputs": [
    {
     "data": {
      "text/plain": [
       "{'age': 22,\n",
       " 'assign_grades': ('A', 'B', 'A'),\n",
       " 'marks': [30, 23, 13],\n",
       " 'name': 'pawar'}"
      ]
     },
     "execution_count": 48,
     "metadata": {},
     "output_type": "execute_result"
    }
   ],
   "source": [
    "my_dict[\"name\"] = \"pawar\"\n",
    "my_dict"
   ]
  },
  {
   "cell_type": "code",
   "execution_count": 49,
   "metadata": {},
   "outputs": [
    {
     "data": {
      "text/plain": [
       "{'age': 22,\n",
       " 'assign_grades': ('A', 'B', 'A'),\n",
       " 'marks': [30, 23, 13],\n",
       " 'name': 'pawar',\n",
       " 'new_key': 'new_data'}"
      ]
     },
     "execution_count": 49,
     "metadata": {},
     "output_type": "execute_result"
    }
   ],
   "source": [
    "my_dict[\"new_key\"] = \"new_data\"\n",
    "my_dict"
   ]
  },
  {
   "cell_type": "code",
   "execution_count": 50,
   "metadata": {},
   "outputs": [
    {
     "name": "stdout",
     "output_type": "stream",
     "text": [
      "dict_keys(['name', 'age', 'marks', 'assign_grades', 'new_key'])\n"
     ]
    }
   ],
   "source": [
    "key_list = my_dict.keys()\n",
    "print(key_list)"
   ]
  },
  {
   "cell_type": "code",
   "execution_count": 51,
   "metadata": {},
   "outputs": [
    {
     "data": {
      "text/plain": [
       "dict_values(['pawar', 22, [30, 23, 13], ('A', 'B', 'A'), 'new_data'])"
      ]
     },
     "execution_count": 51,
     "metadata": {},
     "output_type": "execute_result"
    }
   ],
   "source": [
    "dict_values = my_dict.values()\n",
    "dict_values"
   ]
  },
  {
   "cell_type": "code",
   "execution_count": 52,
   "metadata": {},
   "outputs": [
    {
     "data": {
      "text/plain": [
       "dict_items([('name', 'pawar'), ('age', 22), ('marks', [30, 23, 13]), ('assign_grades', ('A', 'B', 'A')), ('new_key', 'new_data')])"
      ]
     },
     "execution_count": 52,
     "metadata": {},
     "output_type": "execute_result"
    }
   ],
   "source": [
    "dict_items = my_dict.items()\n",
    "dict_items\n"
   ]
  },
  {
   "cell_type": "code",
   "execution_count": 53,
   "metadata": {},
   "outputs": [
    {
     "data": {
      "text/plain": [
       "{'age': 22,\n",
       " 'assign_grades': ('A', 'B', 'A'),\n",
       " 'marks': [30, 23, 13],\n",
       " 'name': 'pawar',\n",
       " 'new_key': 'new_data'}"
      ]
     },
     "execution_count": 53,
     "metadata": {},
     "output_type": "execute_result"
    }
   ],
   "source": [
    "my_dict"
   ]
  },
  {
   "cell_type": "raw",
   "metadata": {},
   "source": [
    "print(my_dict)\n",
    "del(my_dict['name'])\n",
    "print(my_dict)"
   ]
  },
  {
   "cell_type": "code",
   "execution_count": 54,
   "metadata": {},
   "outputs": [
    {
     "data": {
      "text/plain": [
       "False"
      ]
     },
     "execution_count": 54,
     "metadata": {},
     "output_type": "execute_result"
    }
   ],
   "source": [
    "'Name' in my_dict"
   ]
  },
  {
   "cell_type": "code",
   "execution_count": 55,
   "metadata": {},
   "outputs": [
    {
     "data": {
      "text/plain": [
       "True"
      ]
     },
     "execution_count": 55,
     "metadata": {},
     "output_type": "execute_result"
    }
   ],
   "source": [
    "'age' in my_dict"
   ]
  },
  {
   "cell_type": "code",
   "execution_count": null,
   "metadata": {
    "collapsed": true
   },
   "outputs": [],
   "source": [
    "emp_data = { 1:['Emp A', 34] , 2:['Emp B', 35], 3:['Emp C', 36]}\n",
    "\n",
    "print(emp_data)"
   ]
  },
  {
   "cell_type": "code",
   "execution_count": null,
   "metadata": {
    "collapsed": true
   },
   "outputs": [],
   "source": [
    "emp_data[2] = ['Emp B modified', 45]\n",
    "print(emp_data)"
   ]
  },
  {
   "cell_type": "code",
   "execution_count": null,
   "metadata": {
    "collapsed": true
   },
   "outputs": [],
   "source": [
    "emp_data[4] = ['Emp D', 45]\n",
    "print(emp_data)"
   ]
  },
  {
   "cell_type": "code",
   "execution_count": null,
   "metadata": {
    "collapsed": true
   },
   "outputs": [],
   "source": [
    "del emp_data[2]\n",
    "print(emp_data)"
   ]
  },
  {
   "cell_type": "markdown",
   "metadata": {
    "collapsed": true
   },
   "source": [
    "# Sets"
   ]
  },
  {
   "cell_type": "code",
   "execution_count": 56,
   "metadata": {},
   "outputs": [
    {
     "name": "stdout",
     "output_type": "stream",
     "text": [
      "{'Delhi', 'Bangalore', 'Mumbai', 'Pune'}\n",
      "<class 'set'>\n"
     ]
    }
   ],
   "source": [
    "city_set = {\"Pune\", \"Mumbai\", \"Pune\", \"Mumbai\", \"Bangalore\", \"Delhi\"}\n",
    "print(city_set)\n",
    "print(type(city_set))"
   ]
  },
  {
   "cell_type": "code",
   "execution_count": 57,
   "metadata": {},
   "outputs": [
    {
     "data": {
      "text/plain": [
       "{'Bangalore', 'Delhi', 'Mumbai', 'Pune'}"
      ]
     },
     "execution_count": 57,
     "metadata": {},
     "output_type": "execute_result"
    }
   ],
   "source": [
    "city_list = [\"Pune\", \"Mumbai\", \"Pune\", \"Mumbai\", \"Bangalore\", \"Delhi\"]\n",
    "city_set = set(city_list)\n",
    "city_set"
   ]
  },
  {
   "cell_type": "code",
   "execution_count": 58,
   "metadata": {},
   "outputs": [
    {
     "data": {
      "text/plain": [
       "{'India', 'US'}"
      ]
     },
     "execution_count": 58,
     "metadata": {},
     "output_type": "execute_result"
    }
   ],
   "source": [
    "country_set = {\"India\", \"US\", \"US\", \"India\"}\n",
    "country_set"
   ]
  },
  {
   "cell_type": "code",
   "execution_count": 59,
   "metadata": {},
   "outputs": [
    {
     "data": {
      "text/plain": [
       "{'India', 'UK', 'US'}"
      ]
     },
     "execution_count": 59,
     "metadata": {},
     "output_type": "execute_result"
    }
   ],
   "source": [
    "country_set.add(\"UK\")\n",
    "country_set"
   ]
  },
  {
   "cell_type": "code",
   "execution_count": 60,
   "metadata": {},
   "outputs": [
    {
     "data": {
      "text/plain": [
       "{'India', 'US'}"
      ]
     },
     "execution_count": 60,
     "metadata": {},
     "output_type": "execute_result"
    }
   ],
   "source": [
    "country_set.remove(\"UK\")\n",
    "country_set"
   ]
  },
  {
   "cell_type": "code",
   "execution_count": 61,
   "metadata": {},
   "outputs": [
    {
     "data": {
      "text/plain": [
       "True"
      ]
     },
     "execution_count": 61,
     "metadata": {},
     "output_type": "execute_result"
    }
   ],
   "source": [
    "\"India\"  in country_set"
   ]
  },
  {
   "cell_type": "code",
   "execution_count": 62,
   "metadata": {},
   "outputs": [
    {
     "data": {
      "text/plain": [
       "False"
      ]
     },
     "execution_count": 62,
     "metadata": {},
     "output_type": "execute_result"
    }
   ],
   "source": [
    "\"UK\"  in country_set"
   ]
  },
  {
   "cell_type": "code",
   "execution_count": 63,
   "metadata": {
    "collapsed": true
   },
   "outputs": [],
   "source": [
    "maharashtra_cities = {\"Pune\", \"Mumbai\", \"Nagpur\"}\n",
    "goa_cities = {\"Panjim\", \"Vasco\", \"Madgaon\"}\n",
    "western_region_cities = {\"Panjim\", \"Vasco\", \"Pune\", \"Mumbai\", \"Nagpur\"}"
   ]
  },
  {
   "cell_type": "code",
   "execution_count": 64,
   "metadata": {},
   "outputs": [
    {
     "data": {
      "text/plain": [
       "{'Mumbai', 'Nagpur', 'Pune'}"
      ]
     },
     "execution_count": 64,
     "metadata": {},
     "output_type": "execute_result"
    }
   ],
   "source": [
    "common_cities = maharashtra_cities & western_region_cities\n",
    "common_cities"
   ]
  },
  {
   "cell_type": "code",
   "execution_count": 65,
   "metadata": {},
   "outputs": [
    {
     "name": "stdout",
     "output_type": "stream",
     "text": [
      "{'Nagpur', 'Pune', 'Mumbai'}\n"
     ]
    }
   ],
   "source": [
    "print(maharashtra_cities.intersection(western_region_cities))"
   ]
  },
  {
   "cell_type": "code",
   "execution_count": 66,
   "metadata": {},
   "outputs": [
    {
     "data": {
      "text/plain": [
       "{'Madgaon', 'Mumbai', 'Nagpur', 'Panjim', 'Pune', 'Vasco'}"
      ]
     },
     "execution_count": 66,
     "metadata": {},
     "output_type": "execute_result"
    }
   ],
   "source": [
    "all_cities = maharashtra_cities | western_region_cities | goa_cities\n",
    "all_cities"
   ]
  },
  {
   "cell_type": "code",
   "execution_count": 67,
   "metadata": {},
   "outputs": [
    {
     "name": "stdout",
     "output_type": "stream",
     "text": [
      "{'Panjim', 'Nagpur', 'Mumbai', 'Pune', 'Vasco', 'Madgaon'}\n"
     ]
    }
   ],
   "source": [
    "print((maharashtra_cities.union(western_region_cities)).union(goa_cities))"
   ]
  },
  {
   "cell_type": "code",
   "execution_count": 68,
   "metadata": {},
   "outputs": [
    {
     "data": {
      "text/plain": [
       "{'Panjim', 'Vasco'}"
      ]
     },
     "execution_count": 68,
     "metadata": {},
     "output_type": "execute_result"
    }
   ],
   "source": [
    "western_region_cities.difference(maharashtra_cities) "
   ]
  },
  {
   "cell_type": "code",
   "execution_count": 69,
   "metadata": {},
   "outputs": [
    {
     "data": {
      "text/plain": [
       "{'Madgaon'}"
      ]
     },
     "execution_count": 69,
     "metadata": {},
     "output_type": "execute_result"
    }
   ],
   "source": [
    "goa_cities.difference(western_region_cities) "
   ]
  },
  {
   "cell_type": "code",
   "execution_count": 70,
   "metadata": {},
   "outputs": [
    {
     "data": {
      "text/plain": [
       "{'Panjim', 'Vasco'}"
      ]
     },
     "execution_count": 70,
     "metadata": {},
     "output_type": "execute_result"
    }
   ],
   "source": [
    "maharashtra_cities.symmetric_difference(western_region_cities)"
   ]
  },
  {
   "cell_type": "code",
   "execution_count": 71,
   "metadata": {},
   "outputs": [
    {
     "name": "stdout",
     "output_type": "stream",
     "text": [
      "[1, 2, 3, 2, 3, 4]\n",
      "{1, 2, 3, 4}\n"
     ]
    }
   ],
   "source": [
    "duplicate_items_list = [1, 2, 3, 2, 3, 4]\n",
    "print(duplicate_items_list)\n",
    "\n",
    "uniq_set = set(duplicate_items_list)\n",
    "print(uniq_set)"
   ]
  },
  {
   "cell_type": "code",
   "execution_count": 157,
   "metadata": {},
   "outputs": [
    {
     "name": "stdout",
     "output_type": "stream",
     "text": [
      "{'e', 'a', 'c', 'd'}\n",
      "['e', 'a', 'c', 'd']\n"
     ]
    }
   ],
   "source": [
    "grade_set = { 'a', 'c', 'd', 'e'}\n",
    "print(grade_set)\n",
    "\n",
    "grade_list = list(grade_set)\n",
    "print(grade_list)"
   ]
  },
  {
   "cell_type": "code",
   "execution_count": null,
   "metadata": {
    "collapsed": true
   },
   "outputs": [],
   "source": []
  }
 ],
 "metadata": {
  "kernelspec": {
   "display_name": "Python 3",
   "language": "python",
   "name": "python3"
  },
  "language_info": {
   "codemirror_mode": {
    "name": "ipython",
    "version": 3
   },
   "file_extension": ".py",
   "mimetype": "text/x-python",
   "name": "python",
   "nbconvert_exporter": "python",
   "pygments_lexer": "ipython3",
   "version": "3.7.3"
  }
 },
 "nbformat": 4,
 "nbformat_minor": 2
}
