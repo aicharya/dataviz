{
 "cells": [
  {
   "cell_type": "markdown",
   "metadata": {},
   "source": [
    "# Notebook 4 - Matplotlib Plotting Other Visuals"
   ]
  },
  {
   "cell_type": "code",
   "execution_count": 1,
   "metadata": {
    "collapsed": true
   },
   "outputs": [],
   "source": [
    "import numpy as np\n",
    "import pandas as pd\n",
    "import matplotlib.pyplot as plt"
   ]
  },
  {
   "cell_type": "code",
   "execution_count": null,
   "metadata": {
    "collapsed": true
   },
   "outputs": [],
   "source": [
    "#Matplotlib official documentation"
   ]
  },
  {
   "cell_type": "code",
   "execution_count": 5,
   "metadata": {
    "collapsed": true
   },
   "outputs": [],
   "source": [
    "#Histogram"
   ]
  },
  {
   "cell_type": "code",
   "execution_count": null,
   "metadata": {
    "collapsed": true
   },
   "outputs": [],
   "source": [
    "#Generate a random seed\n",
    "np.random.seed(19680801)\n",
    "\n",
    "# Generate example data\n",
    "mu = 100  # mean of distribution\n",
    "sigma = 15  # standard deviation of distribution\n",
    "x = mu + sigma * np.random.randn(437)\n",
    "\n",
    "#Specify number of beans\n",
    "num_bins = 50\n",
    "\n",
    "fig, ax = plt.subplots()\n",
    "\n",
    "# the histogram of the data\n",
    "ax.hist(x, num_bins)\n",
    "ax.set_title(r'Histogram of IQ: $\\mu=100$, $\\sigma=15$')\n",
    "\n",
    "plt.show()"
   ]
  },
  {
   "cell_type": "code",
   "execution_count": 10,
   "metadata": {
    "collapsed": true
   },
   "outputs": [],
   "source": [
    "#Barplot"
   ]
  },
  {
   "cell_type": "code",
   "execution_count": null,
   "metadata": {
    "collapsed": true
   },
   "outputs": [],
   "source": [
    "#Specify number of students\n",
    "n_students = 5\n",
    "\n",
    "#Prepare exam data for 5 students\n",
    "means_students_midsem = (20, 35, 30, 35, 27)\n",
    "means_students_compre = (25, 32, 34, 20, 25)\n",
    "\n",
    "fig, ax = plt.subplots()\n",
    "\n",
    "#Specify the bar properties\n",
    "index = np.arange(n_students)\n",
    "bar_width = 0.35\n",
    "\n",
    "rects1 = ax.bar(index, means_students_midsem, bar_width, color='b', label='Midsem')\n",
    "rects2 = ax.bar(index + bar_width, means_students_compre, bar_width, color='r', label='Compre')\n",
    "\n",
    "ax.set_xlabel('Students')\n",
    "ax.set_ylabel('Scores')\n",
    "ax.set_title('Scores by Student and Exam Type')\n",
    "ax.set_xticks(index + bar_width / 2)\n",
    "ax.set_xticklabels(('Raj', 'Sharad', 'Dev', 'Naren', 'Rahul'))\n",
    "ax.legend()\n",
    "\n",
    "plt.show()"
   ]
  },
  {
   "cell_type": "code",
   "execution_count": null,
   "metadata": {
    "collapsed": true
   },
   "outputs": [],
   "source": [
    "#PieChart"
   ]
  },
  {
   "cell_type": "code",
   "execution_count": null,
   "metadata": {
    "collapsed": true
   },
   "outputs": [],
   "source": [
    "# Pie chart, where the slices will be ordered and plotted counter-clockwise\n",
    "\n",
    "#Prepare data \n",
    "country_labels = 'US', 'UK', 'India', 'Russia'\n",
    "counry_sales = [15, 30, 45, 10]\n",
    "explode = (0, 0, 0.1, 0)  # only \"explode\" the 2nd slice \n",
    "\n",
    "fig1, ax1 = plt.subplots()\n",
    "ax1.pie(counry_sales, explode=explode, labels=country_labels, autopct='%1.1f%%', shadow=True, startangle=90)\n",
    "ax1.axis('equal')  # Equal aspect ratio ensures that pie is drawn as a circle.\n",
    "\n",
    "plt.show()"
   ]
  },
  {
   "cell_type": "code",
   "execution_count": 22,
   "metadata": {
    "collapsed": true
   },
   "outputs": [],
   "source": [
    "#Scatter plot"
   ]
  },
  {
   "cell_type": "code",
   "execution_count": null,
   "metadata": {
    "collapsed": true
   },
   "outputs": [],
   "source": [
    "x = [1, 2, 3, 4, 5, 6, 7, 8, 9, 10, 11, 12]\n",
    "y = [1, 4, 9, 16, 25, 36, 49, 64, 81, 100, 121, 144]\n",
    "\n",
    "fig, ax = plt.subplots()\n",
    "ax.scatter(x, y,alpha=0.5)\n",
    "\n",
    "ax.set_xlabel('number', fontsize=15)\n",
    "ax.set_ylabel('square(number)', fontsize=15)\n",
    "ax.set_title('Number and its Square')\n",
    "\n",
    "ax.grid(True)\n",
    "fig.tight_layout()\n",
    "\n",
    "plt.show()"
   ]
  }
 ],
 "metadata": {
  "kernelspec": {
   "display_name": "Python 3",
   "language": "python",
   "name": "python3"
  },
  "language_info": {
   "codemirror_mode": {
    "name": "ipython",
    "version": 3
   },
   "file_extension": ".py",
   "mimetype": "text/x-python",
   "name": "python",
   "nbconvert_exporter": "python",
   "pygments_lexer": "ipython3",
   "version": "3.7.3"
  }
 },
 "nbformat": 4,
 "nbformat_minor": 2
}
