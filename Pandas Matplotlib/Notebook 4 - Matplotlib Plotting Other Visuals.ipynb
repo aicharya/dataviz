{
  "nbformat": 4,
  "nbformat_minor": 0,
  "metadata": {
    "kernelspec": {
      "display_name": "Python 3",
      "language": "python",
      "name": "python3"
    },
    "language_info": {
      "codemirror_mode": {
        "name": "ipython",
        "version": 3
      },
      "file_extension": ".py",
      "mimetype": "text/x-python",
      "name": "python",
      "nbconvert_exporter": "python",
      "pygments_lexer": "ipython3",
      "version": "3.7.3"
    },
    "colab": {
      "name": "Notebook 4 - Matplotlib Plotting Other Visuals.ipynb",
      "provenance": []
    }
  },
  "cells": [
    {
      "cell_type": "markdown",
      "metadata": {
        "id": "3sV-6K6CLbmr",
        "colab_type": "text"
      },
      "source": [
        "# Notebook 4 - Matplotlib Plotting Other Visuals"
      ]
    },
    {
      "cell_type": "code",
      "metadata": {
        "id": "npPiq5TxLbmu",
        "colab_type": "code",
        "colab": {}
      },
      "source": [
        "import numpy as np\n",
        "import pandas as pd\n",
        "import matplotlib.pyplot as plt"
      ],
      "execution_count": 0,
      "outputs": []
    },
    {
      "cell_type": "code",
      "metadata": {
        "id": "-7Q26pW-Lbmy",
        "colab_type": "code",
        "colab": {}
      },
      "source": [
        "#Matplotlib official documentation"
      ],
      "execution_count": 0,
      "outputs": []
    },
    {
      "cell_type": "code",
      "metadata": {
        "id": "NX8umquHLbm1",
        "colab_type": "code",
        "colab": {}
      },
      "source": [
        "#Histogram"
      ],
      "execution_count": 0,
      "outputs": []
    },
    {
      "cell_type": "code",
      "metadata": {
        "id": "OCRIzfNpLbm4",
        "colab_type": "code",
        "colab": {
          "base_uri": "https://localhost:8080/",
          "height": 283
        },
        "outputId": "dc549bdd-19c6-457d-dc1b-e4fa85f10fd3"
      },
      "source": [
        "#Generate a random seed\n",
        "np.random.seed(19680801)\n",
        "\n",
        "# Generate example data\n",
        "mu = 100  # mean of distribution\n",
        "sigma = 15  # standard deviation of distribution\n",
        "x = mu + sigma * np.random.randn(437)\n",
        "\n",
        "#Specify number of beans\n",
        "num_bins = 50\n",
        "\n",
        "fig, ax = plt.subplots()\n",
        "\n",
        "# the histogram of the data\n",
        "ax.hist(x, num_bins)\n",
        "ax.set_title(r'Histogram of IQ: $\\mu=100$, $\\sigma=15$')\n",
        "\n",
        "plt.show()"
      ],
      "execution_count": 2,
      "outputs": [
        {
          "output_type": "display_data",
          "data": {
            "image/png": "[encoded data removed]",
            "text/plain": [
              "<Figure size 432x288 with 1 Axes>"
            ]
          },
          "metadata": {
            "tags": []
          }
        }
      ]
    },
    {
      "cell_type": "code",
      "metadata": {
        "id": "I-4s9XFdNQsk",
        "colab_type": "code",
        "colab": {
          "base_uri": "https://localhost:8080/",
          "height": 1000
        },
        "outputId": "43e84eda-7250-4b61-9bc0-e5a9cdb3cd8b"
      },
      "source": [
        "x"
      ],
      "execution_count": 3,
      "outputs": [
        {
          "output_type": "execute_result",
          "data": {
            "text/plain": [
              "array([115.73956466, 112.99148762, 108.267019  , 125.92116686,\n",
              "        90.26067825,  92.82370635, 116.16827658, 114.53215499,\n",
              "        87.8598281 ,  81.43916344, 127.90174814,  95.37521144,\n",
              "       111.74455826, 100.32285171, 110.73495683, 121.0219976 ,\n",
              "        83.08746824, 124.8372733 , 121.01442223, 103.02985105,\n",
              "        85.52704653, 115.66882769,  93.5342397 ,  92.54020755,\n",
              "        99.11323876,  83.28093002,  81.59503322,  78.84867708,\n",
              "       119.66290772,  92.23836888,  99.75012795, 107.03758377,\n",
              "       111.65167142,  71.72953461,  98.08619   ,  92.21023846,\n",
              "       111.02714831, 120.20276983, 108.2538258 ,  96.56423263,\n",
              "       109.91847439,  91.95447299,  92.77083436, 104.69085344,\n",
              "        53.17242208,  79.62284483,  97.8604269 ,  96.74504612,\n",
              "        99.50697994, 127.48217025, 105.28539761, 103.54967699,\n",
              "       122.17822098, 123.31459855,  83.34086535, 112.35682844,\n",
              "       109.97912032, 110.72149585,  81.53819421, 131.43103191,\n",
              "        90.95170777, 124.2032959 ,  96.19023925,  77.26181842,\n",
              "        98.24160216, 107.43142538,  89.46113729, 105.92604303,\n",
              "        83.15081469,  74.26667822,  95.9334228 , 101.29361108,\n",
              "        83.64293222, 101.6881452 ,  85.695333  , 100.75334792,\n",
              "        92.75259096, 120.0085495 , 107.2028212 ,  88.75410011,\n",
              "        80.18835159, 104.983474  ,  96.00087488, 109.54303038,\n",
              "        83.22527241, 103.96817727, 101.39589119,  82.05702865,\n",
              "        86.516083  ,  99.31904919,  91.04248627, 100.23428729,\n",
              "        90.89224131, 110.82101245, 106.96416517, 112.39839128,\n",
              "       101.3951805 ,  66.06575367, 114.86085469,  80.8927636 ,\n",
              "        79.18394591, 102.32831166, 101.10508721, 115.43722066,\n",
              "        90.09427668,  90.71694075,  97.15694425,  91.80947393,\n",
              "       124.3870744 ,  98.46181352,  78.54994055, 113.13074516,\n",
              "        97.72391147,  94.45046302, 100.20975434,  98.77498024,\n",
              "       116.38716017, 107.91673785, 126.12516228,  91.80513285,\n",
              "       124.86051929, 110.10444947,  98.72727999,  75.21393482,\n",
              "       109.65345596,  86.28506456, 105.24817513, 101.47131435,\n",
              "       113.80199611, 106.24372122, 110.32447979,  99.50936203,\n",
              "       108.13816758,  99.91168256,  79.57382337,  95.23823097,\n",
              "        65.09853269, 113.19331505,  89.71061819,  82.08651332,\n",
              "        81.69710855,  87.23374962, 110.10610058, 109.53753557,\n",
              "       112.52912358, 102.72989377, 118.48436112,  85.04737279,\n",
              "        87.93643235, 127.49844799, 101.26069315,  93.00660534,\n",
              "        93.11812841,  90.64458015, 109.67699309,  72.22629057,\n",
              "       112.65013497, 116.40800137, 106.84863665, 104.09696247,\n",
              "        71.2476924 , 102.44498628, 113.80655586,  89.99086816,\n",
              "        99.30007136,  90.79343501,  94.37599094, 107.75411228,\n",
              "       108.08371726, 100.02287439,  98.38320606, 110.35520373,\n",
              "       122.21169912, 113.58184121, 124.45209254, 100.79529376,\n",
              "        74.83199838,  95.40930383,  97.57703598, 116.91225487,\n",
              "        99.58286999, 100.43516095,  87.41674963,  85.03586136,\n",
              "       102.95280051,  76.49465573, 101.15219352, 103.44240711,\n",
              "       117.46708902, 100.20340862,  83.02449746,  89.5222017 ,\n",
              "        80.7500885 ,  84.48471801, 112.88082529,  83.07091859,\n",
              "       106.37645078, 115.24212006,  52.92062269,  92.6195406 ,\n",
              "       124.15228691, 107.10966424,  65.327034  ,  93.20228273,\n",
              "        87.52495864,  96.05305701,  96.19938304, 101.56961479,\n",
              "        94.9234376 ,  82.77958647,  92.08417175,  98.18784019,\n",
              "       102.61428805,  90.41655404,  98.72382357, 124.40344751,\n",
              "       110.94262307, 105.81052545, 102.04111895, 102.37890168,\n",
              "        98.68953076,  89.0324317 , 118.70067216, 110.68514574,\n",
              "        82.41155091, 106.58427358,  92.1145279 , 106.7822023 ,\n",
              "       112.4417131 , 131.54383614, 107.66560259, 132.11544495,\n",
              "        90.80151194, 130.84082053,  99.63311457, 125.2431512 ,\n",
              "       116.63292837, 114.32961601,  93.38042457,  93.0565825 ,\n",
              "       116.39628621,  79.34935367, 103.27257188,  67.12756389,\n",
              "       113.52285554, 128.73082937, 114.78282821, 102.89419607,\n",
              "        94.13495719,  88.35547292,  95.24474482, 100.34960248,\n",
              "       108.27360138, 121.93188852, 120.19883218,  94.35775076,\n",
              "        97.99534663, 119.13606514, 105.82150071,  76.55882884,\n",
              "       107.54609533,  79.67555079, 118.45234158,  84.7788594 ,\n",
              "       103.36907154,  97.68838683,  69.8116969 , 124.93274831,\n",
              "       114.20885691,  61.37247438, 105.92381197,  96.35698409,\n",
              "       111.14595531, 100.32415917, 127.31981425,  75.430859  ,\n",
              "       101.42341441,  97.39972919, 108.3275118 , 106.34845275,\n",
              "        87.85191761,  81.18392166, 111.72260227,  83.22855847,\n",
              "        87.24629886, 103.56024931, 103.10529233, 100.53951053,\n",
              "        96.15732671,  91.27659765, 100.48263587,  96.21604401,\n",
              "        93.54672757, 108.35473381, 109.04579266,  93.72258842,\n",
              "       124.6043602 , 112.84643326, 107.57799568, 101.25393886,\n",
              "       104.17772015,  98.94834644,  99.45607177,  66.15480232,\n",
              "        78.1422401 ,  93.41511173,  99.67898178,  86.28987651,\n",
              "       115.70369218, 104.4528653 ,  84.42595785,  96.58814831,\n",
              "       113.5646863 ,  77.80385261,  93.39853729, 124.09955964,\n",
              "        84.5798135 ,  85.50200326, 111.13811667, 124.90149582,\n",
              "        71.82934764, 101.99667719, 102.23633467, 112.85645234,\n",
              "       109.99763546, 103.0453984 ,  95.68098489, 118.1136647 ,\n",
              "        95.88500059, 118.17521244, 121.32926703,  89.47830909,\n",
              "        98.54110437,  98.11383411, 113.57324584, 111.18562594,\n",
              "        71.29882461,  81.94920682, 106.21225153,  78.58190354,\n",
              "       116.89877281, 116.10036644,  87.93049274, 121.08343689,\n",
              "        85.94012459, 105.90725232, 135.95895051,  77.42569602,\n",
              "        79.42299081, 105.41014896,  88.74560821, 105.45141984,\n",
              "        58.79339414, 107.84004743, 115.69637071, 115.65139668,\n",
              "        94.09324906, 110.13512817, 102.52110946, 113.43479722,\n",
              "        97.49498579, 112.70882343,  96.91555688, 116.95689601,\n",
              "        91.79921809,  97.32537409,  99.37759912,  90.66863047,\n",
              "        98.76043707, 100.96667471, 107.86373188, 123.1879693 ,\n",
              "        89.60000737,  98.86647854, 125.52023762,  87.66186533,\n",
              "        86.41611317, 101.02316946,  92.39820308, 137.8797515 ,\n",
              "        94.83805668, 103.8040935 , 116.32980567,  91.18761101,\n",
              "       117.97998855,  85.83928562,  76.35858594, 110.98733016,\n",
              "        86.71201437,  76.65948755,  97.66969088, 111.44382174,\n",
              "        73.93897368,  84.77859758, 104.58984058, 111.54516676,\n",
              "       128.69901887, 100.38360463,  98.54848259,  88.28270448,\n",
              "       101.82814236, 115.59298939, 101.92113123, 117.46353449,\n",
              "       104.60922051,  82.96994186,  98.77942103,  95.46104546,\n",
              "        88.39922282,  97.93707642,  90.70335642, 100.74678814,\n",
              "        83.1794963 , 111.99040161, 105.24632576, 108.50137004,\n",
              "       114.71892694,  87.93304236, 106.55172432, 101.18010638,\n",
              "        83.72555459, 142.01618503,  85.76209596,  91.90820315,\n",
              "       128.66380521, 108.75910265,  96.98598831,  92.7786331 ,\n",
              "       102.28756876, 107.05704058,  97.1648349 ,  94.65047767,\n",
              "        75.59880083,  94.0304089 , 119.22815857, 100.80532387,\n",
              "        82.82977789])"
            ]
          },
          "metadata": {
            "tags": []
          },
          "execution_count": 3
        }
      ]
    },
    {
      "cell_type": "code",
      "metadata": {
        "id": "C8_CC7pvLbm8",
        "colab_type": "code",
        "colab": {}
      },
      "source": [
        "#Barplot"
      ],
      "execution_count": 0,
      "outputs": []
    },
    {
      "cell_type": "code",
      "metadata": {
        "id": "1ZqYIYJtLbm_",
        "colab_type": "code",
        "colab": {
          "base_uri": "https://localhost:8080/",
          "height": 295
        },
        "outputId": "f91d0394-7864-4440-b4be-981a6a859b43"
      },
      "source": [
        "#Specify number of students\n",
        "n_students = 5\n",
        "\n",
        "#Prepare exam data for 5 students\n",
        "means_students_midsem = (20, 35, 30, 35, 27)\n",
        "means_students_compre = (25, 32, 34, 20, 25)\n",
        "\n",
        "fig, ax = plt.subplots()\n",
        "\n",
        "#Specify the bar properties\n",
        "index = np.arange(n_students)\n",
        "bar_width = 0.35\n",
        "\n",
        "rects1 = ax.bar(index, means_students_midsem, bar_width, color='b', label='Midsem')\n",
        "rects2 = ax.bar(index + bar_width, means_students_compre, bar_width, color='r', label='Compre')\n",
        "\n",
        "ax.set_xlabel('Students')\n",
        "ax.set_ylabel('Scores')\n",
        "ax.set_title('Scores by Student and Exam Type')\n",
        "ax.set_xticks(index + bar_width / 2)\n",
        "ax.set_xticklabels(('Raj', 'Sharad', 'Dev', 'Naren', 'Rahul'))\n",
        "ax.legend()\n",
        "\n",
        "plt.show()"
      ],
      "execution_count": 4,
      "outputs": [
        {
          "output_type": "display_data",
          "data": {
            "image/png": "[encoded data removed]",
            "text/plain": [
              "<Figure size 432x288 with 1 Axes>"
            ]
          },
          "metadata": {
            "tags": []
          }
        }
      ]
    },
    {
      "cell_type": "code",
      "metadata": {
        "id": "A_cZUR2NLbnC",
        "colab_type": "code",
        "colab": {}
      },
      "source": [
        "#PieChart"
      ],
      "execution_count": 0,
      "outputs": []
    },
    {
      "cell_type": "code",
      "metadata": {
        "id": "MuooX6zvLbnE",
        "colab_type": "code",
        "colab": {
          "base_uri": "https://localhost:8080/",
          "height": 248
        },
        "outputId": "4e8ff4d7-8cae-4a5a-8993-814ce08ffa69"
      },
      "source": [
        "# Pie chart, where the slices will be ordered and plotted counter-clockwise\n",
        "\n",
        "#Prepare data \n",
        "country_labels = 'US', 'UK', 'India', 'Russia'\n",
        "counry_sales = [15, 30, 45, 10]\n",
        "explode = (0, 0, 0.1, 0)  # only \"explode\" the 2nd slice \n",
        "\n",
        "fig1, ax1 = plt.subplots()\n",
        "ax1.pie(counry_sales, explode=explode, labels=country_labels, autopct='%1.1f%%', shadow=True, startangle=90)\n",
        "ax1.axis('equal')  # Equal aspect ratio ensures that pie is drawn as a circle.\n",
        "\n",
        "plt.show()"
      ],
      "execution_count": 5,
      "outputs": [
        {
          "output_type": "display_data",
          "data": {
            "image/png": "[encoded data removed]",
            "text/plain": [
              "<Figure size 432x288 with 1 Axes>"
            ]
          },
          "metadata": {
            "tags": []
          }
        }
      ]
    },
    {
      "cell_type": "code",
      "metadata": {
        "id": "PTrTqV-oLbnH",
        "colab_type": "code",
        "colab": {}
      },
      "source": [
        "#Scatter plot"
      ],
      "execution_count": 0,
      "outputs": []
    },
    {
      "cell_type": "code",
      "metadata": {
        "id": "IuHhsu-9LbnJ",
        "colab_type": "code",
        "colab": {
          "base_uri": "https://localhost:8080/",
          "height": 297
        },
        "outputId": "9ebca615-b837-40df-8e7e-3f2ba9ed71cd"
      },
      "source": [
        "x = [1, 2, 3, 4, 5, 6, 7, 8, 9, 10, 11, 12]\n",
        "y = [1, 4, 9, 16, 25, 36, 49, 64, 81, 100, 121, 144]\n",
        "\n",
        "fig, ax = plt.subplots()\n",
        "ax.scatter(x, y,alpha=0.5)\n",
        "\n",
        "ax.set_xlabel('number', fontsize=15)\n",
        "ax.set_ylabel('square(number)', fontsize=15)\n",
        "ax.set_title('Number and its Square')\n",
        "\n",
        "ax.grid(True)\n",
        "fig.tight_layout()\n",
        "\n",
        "plt.show()"
      ],
      "execution_count": 6,
      "outputs": [
        {
          "output_type": "display_data",
          "data": {
            "image/png": "[encoded data removed]",
            "text/plain": [
              "<Figure size 432x288 with 1 Axes>"
            ]
          },
          "metadata": {
            "tags": []
          }
        }
      ]
    }
  ]
}